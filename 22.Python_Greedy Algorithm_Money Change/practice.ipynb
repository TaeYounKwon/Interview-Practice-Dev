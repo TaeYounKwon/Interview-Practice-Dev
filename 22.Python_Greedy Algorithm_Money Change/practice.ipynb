{
 "cells": [
  {
   "attachments": {},
   "cell_type": "markdown",
   "metadata": {},
   "source": [
    "### 거스름돈 문제"
   ]
  },
  {
   "cell_type": "code",
   "execution_count": 15,
   "metadata": {},
   "outputs": [],
   "source": [
    "money = [ 10, 100, 50, 1000, 2, 20, 5,  500, 1]"
   ]
  },
  {
   "cell_type": "code",
   "execution_count": 46,
   "metadata": {},
   "outputs": [],
   "source": [
    "def solution(m, p, g):\n",
    "    if g<p:\n",
    "        return False\n",
    "\n",
    "    answer = dict()\n",
    "    tmp  = m\n",
    "    tmp.sort(reverse=True)\n",
    "    \n",
    "    left =  g - p\n",
    "    print(\"change: \", left)\n",
    "    \n",
    "    for money in tmp:\n",
    "        if money > left:\n",
    "            pass\n",
    "        else:\n",
    "            numb = left//money\n",
    "            answer[money]=numb\n",
    "            \n",
    "            left = left%money\n",
    "            \n",
    "    numbTotal = sum(answer.values())\n",
    "    print(\"numb Total: \", numbTotal)\n",
    "             \n",
    "    \n",
    "    \n",
    "    return answer"
   ]
  },
  {
   "cell_type": "code",
   "execution_count": 47,
   "metadata": {},
   "outputs": [
    {
     "name": "stdout",
     "output_type": "stream",
     "text": [
      "change:  1368\n",
      "numb Total:  9\n",
      "{1000: 1, 100: 3, 50: 1, 10: 1, 5: 1, 2: 1, 1: 1}\n"
     ]
    }
   ],
   "source": [
    "result = solution(money, 8632, 10000)\n",
    "print(result)"
   ]
  },
  {
   "cell_type": "code",
   "execution_count": 48,
   "metadata": {},
   "outputs": [
    {
     "name": "stdout",
     "output_type": "stream",
     "text": [
      "False\n"
     ]
    }
   ],
   "source": [
    "result = solution(money, 8632, 1000)\n",
    "print(result)"
   ]
  },
  {
   "cell_type": "code",
   "execution_count": 49,
   "metadata": {},
   "outputs": [
    {
     "name": "stdout",
     "output_type": "stream",
     "text": [
      "change:  3762\n",
      "numb Total:  9\n",
      "{1000: 3, 500: 1, 100: 2, 50: 1, 10: 1, 2: 1}\n"
     ]
    }
   ],
   "source": [
    "result = solution(money, 16238, 20000)\n",
    "print(result)"
   ]
  },
  {
   "cell_type": "code",
   "execution_count": null,
   "metadata": {},
   "outputs": [],
   "source": []
  }
 ],
 "metadata": {
  "kernelspec": {
   "display_name": "Python 3",
   "language": "python",
   "name": "python3"
  },
  "language_info": {
   "codemirror_mode": {
    "name": "ipython",
    "version": 3
   },
   "file_extension": ".py",
   "mimetype": "text/x-python",
   "name": "python",
   "nbconvert_exporter": "python",
   "pygments_lexer": "ipython3",
   "version": "3.10.5 (tags/v3.10.5:f377153, Jun  6 2022, 16:14:13) [MSC v.1929 64 bit (AMD64)]"
  },
  "orig_nbformat": 4,
  "vscode": {
   "interpreter": {
    "hash": "e89c93e4c07d4ac8f065cea982a638287e1c61026788fcbbad7e0263e2130583"
   }
  }
 },
 "nbformat": 4,
 "nbformat_minor": 2
}
