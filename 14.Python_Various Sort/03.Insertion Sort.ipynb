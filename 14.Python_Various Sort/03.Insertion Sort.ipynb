{
 "cells": [
  {
   "cell_type": "code",
   "execution_count": 23,
   "metadata": {},
   "outputs": [],
   "source": [
    "group1 = [6,1,5,4,2,7,3,9,8]"
   ]
  },
  {
   "cell_type": "code",
   "execution_count": 24,
   "metadata": {},
   "outputs": [],
   "source": [
    "def insertion_sort(arr):\n",
    "    for i in range(1, len(arr)):\n",
    "        print(\"original: \", arr)\n",
    "        for j in range(i, 0, -1):\n",
    "            if arr[j - 1] > arr[j]:\n",
    "                arr[j - 1], arr[j] = arr[j], arr[j - 1]\n",
    "            print(\"Fixed: \",arr)    \n",
    "    return arr            "
   ]
  },
  {
   "cell_type": "code",
   "execution_count": 21,
   "metadata": {},
   "outputs": [],
   "source": [
    "def insertion_sort(arr):\n",
    "    for i in range(1, len(arr)):\n",
    "        for j in range(i, 0, -1):\n",
    "            if arr[j-1]>arr[j]:\n",
    "                arr[j], arr[j-1] = arr[j-1], arr[j]\n",
    "    return arr            "
   ]
  },
  {
   "cell_type": "code",
   "execution_count": 25,
   "metadata": {},
   "outputs": [
    {
     "name": "stdout",
     "output_type": "stream",
     "text": [
      "original:  [6, 1, 5, 4, 2, 7, 3, 9, 8]\n",
      "Fixed:  [1, 6, 5, 4, 2, 7, 3, 9, 8]\n",
      "original:  [1, 6, 5, 4, 2, 7, 3, 9, 8]\n",
      "Fixed:  [1, 5, 6, 4, 2, 7, 3, 9, 8]\n",
      "Fixed:  [1, 5, 6, 4, 2, 7, 3, 9, 8]\n",
      "original:  [1, 5, 6, 4, 2, 7, 3, 9, 8]\n",
      "Fixed:  [1, 5, 4, 6, 2, 7, 3, 9, 8]\n",
      "Fixed:  [1, 4, 5, 6, 2, 7, 3, 9, 8]\n",
      "Fixed:  [1, 4, 5, 6, 2, 7, 3, 9, 8]\n",
      "original:  [1, 4, 5, 6, 2, 7, 3, 9, 8]\n",
      "Fixed:  [1, 4, 5, 2, 6, 7, 3, 9, 8]\n",
      "Fixed:  [1, 4, 2, 5, 6, 7, 3, 9, 8]\n",
      "Fixed:  [1, 2, 4, 5, 6, 7, 3, 9, 8]\n",
      "Fixed:  [1, 2, 4, 5, 6, 7, 3, 9, 8]\n",
      "original:  [1, 2, 4, 5, 6, 7, 3, 9, 8]\n",
      "Fixed:  [1, 2, 4, 5, 6, 7, 3, 9, 8]\n",
      "Fixed:  [1, 2, 4, 5, 6, 7, 3, 9, 8]\n",
      "Fixed:  [1, 2, 4, 5, 6, 7, 3, 9, 8]\n",
      "Fixed:  [1, 2, 4, 5, 6, 7, 3, 9, 8]\n",
      "Fixed:  [1, 2, 4, 5, 6, 7, 3, 9, 8]\n",
      "original:  [1, 2, 4, 5, 6, 7, 3, 9, 8]\n",
      "Fixed:  [1, 2, 4, 5, 6, 3, 7, 9, 8]\n",
      "Fixed:  [1, 2, 4, 5, 3, 6, 7, 9, 8]\n",
      "Fixed:  [1, 2, 4, 3, 5, 6, 7, 9, 8]\n",
      "Fixed:  [1, 2, 3, 4, 5, 6, 7, 9, 8]\n",
      "Fixed:  [1, 2, 3, 4, 5, 6, 7, 9, 8]\n",
      "Fixed:  [1, 2, 3, 4, 5, 6, 7, 9, 8]\n",
      "original:  [1, 2, 3, 4, 5, 6, 7, 9, 8]\n",
      "Fixed:  [1, 2, 3, 4, 5, 6, 7, 9, 8]\n",
      "Fixed:  [1, 2, 3, 4, 5, 6, 7, 9, 8]\n",
      "Fixed:  [1, 2, 3, 4, 5, 6, 7, 9, 8]\n",
      "Fixed:  [1, 2, 3, 4, 5, 6, 7, 9, 8]\n",
      "Fixed:  [1, 2, 3, 4, 5, 6, 7, 9, 8]\n",
      "Fixed:  [1, 2, 3, 4, 5, 6, 7, 9, 8]\n",
      "Fixed:  [1, 2, 3, 4, 5, 6, 7, 9, 8]\n",
      "original:  [1, 2, 3, 4, 5, 6, 7, 9, 8]\n",
      "Fixed:  [1, 2, 3, 4, 5, 6, 7, 8, 9]\n",
      "Fixed:  [1, 2, 3, 4, 5, 6, 7, 8, 9]\n",
      "Fixed:  [1, 2, 3, 4, 5, 6, 7, 8, 9]\n",
      "Fixed:  [1, 2, 3, 4, 5, 6, 7, 8, 9]\n",
      "Fixed:  [1, 2, 3, 4, 5, 6, 7, 8, 9]\n",
      "Fixed:  [1, 2, 3, 4, 5, 6, 7, 8, 9]\n",
      "Fixed:  [1, 2, 3, 4, 5, 6, 7, 8, 9]\n",
      "Fixed:  [1, 2, 3, 4, 5, 6, 7, 8, 9]\n",
      "[1, 2, 3, 4, 5, 6, 7, 8, 9]\n"
     ]
    }
   ],
   "source": [
    "sorted = insertion_sort(group1)\n",
    "print(sorted)"
   ]
  },
  {
   "cell_type": "code",
   "execution_count": null,
   "metadata": {},
   "outputs": [],
   "source": []
  }
 ],
 "metadata": {
  "kernelspec": {
   "display_name": "Python 3",
   "language": "python",
   "name": "python3"
  },
  "language_info": {
   "codemirror_mode": {
    "name": "ipython",
    "version": 3
   },
   "file_extension": ".py",
   "mimetype": "text/x-python",
   "name": "python",
   "nbconvert_exporter": "python",
   "pygments_lexer": "ipython3",
   "version": "3.10.5"
  },
  "orig_nbformat": 4,
  "vscode": {
   "interpreter": {
    "hash": "e89c93e4c07d4ac8f065cea982a638287e1c61026788fcbbad7e0263e2130583"
   }
  }
 },
 "nbformat": 4,
 "nbformat_minor": 2
}
