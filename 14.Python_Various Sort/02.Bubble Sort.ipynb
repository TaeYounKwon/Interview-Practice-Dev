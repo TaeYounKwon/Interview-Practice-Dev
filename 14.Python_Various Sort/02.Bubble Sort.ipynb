{
 "cells": [
  {
   "cell_type": "code",
   "execution_count": 6,
   "metadata": {},
   "outputs": [],
   "source": [
    "group1 = [6,1,5,4,2,7,3,9,8]"
   ]
  },
  {
   "cell_type": "code",
   "execution_count": 26,
   "metadata": {},
   "outputs": [],
   "source": [
    "def bubble_sort(arr):\n",
    "    for i in range(len(arr) - 1, 0, -1):\n",
    "        for j in range(i):\n",
    "            if arr[j] > arr[j + 1]:\n",
    "                arr[j], arr[j + 1] = arr[j + 1], arr[j]\n",
    "    return arr            "
   ]
  },
  {
   "cell_type": "code",
   "execution_count": 7,
   "metadata": {},
   "outputs": [],
   "source": [
    "def bubble_sort(arr):\n",
    "    for i in range(len(arr) - 1, 0, -1):\n",
    "        print('original: ',arr)\n",
    "        for j in range(i):\n",
    "            if arr[j] > arr[j + 1]:\n",
    "                arr[j], arr[j + 1] = arr[j + 1], arr[j]\n",
    "            print(j,'Fixed: ',arr)\n",
    "    return arr            "
   ]
  },
  {
   "cell_type": "code",
   "execution_count": 8,
   "metadata": {},
   "outputs": [
    {
     "name": "stdout",
     "output_type": "stream",
     "text": [
      "original:  [6, 1, 5, 4, 2, 7, 3, 9, 8]\n",
      "0 Fixed:  [1, 6, 5, 4, 2, 7, 3, 9, 8]\n",
      "1 Fixed:  [1, 5, 6, 4, 2, 7, 3, 9, 8]\n",
      "2 Fixed:  [1, 5, 4, 6, 2, 7, 3, 9, 8]\n",
      "3 Fixed:  [1, 5, 4, 2, 6, 7, 3, 9, 8]\n",
      "4 Fixed:  [1, 5, 4, 2, 6, 7, 3, 9, 8]\n",
      "5 Fixed:  [1, 5, 4, 2, 6, 3, 7, 9, 8]\n",
      "6 Fixed:  [1, 5, 4, 2, 6, 3, 7, 9, 8]\n",
      "7 Fixed:  [1, 5, 4, 2, 6, 3, 7, 8, 9]\n",
      "original:  [1, 5, 4, 2, 6, 3, 7, 8, 9]\n",
      "0 Fixed:  [1, 5, 4, 2, 6, 3, 7, 8, 9]\n",
      "1 Fixed:  [1, 4, 5, 2, 6, 3, 7, 8, 9]\n",
      "2 Fixed:  [1, 4, 2, 5, 6, 3, 7, 8, 9]\n",
      "3 Fixed:  [1, 4, 2, 5, 6, 3, 7, 8, 9]\n",
      "4 Fixed:  [1, 4, 2, 5, 3, 6, 7, 8, 9]\n",
      "5 Fixed:  [1, 4, 2, 5, 3, 6, 7, 8, 9]\n",
      "6 Fixed:  [1, 4, 2, 5, 3, 6, 7, 8, 9]\n",
      "original:  [1, 4, 2, 5, 3, 6, 7, 8, 9]\n",
      "0 Fixed:  [1, 4, 2, 5, 3, 6, 7, 8, 9]\n",
      "1 Fixed:  [1, 2, 4, 5, 3, 6, 7, 8, 9]\n",
      "2 Fixed:  [1, 2, 4, 5, 3, 6, 7, 8, 9]\n",
      "3 Fixed:  [1, 2, 4, 3, 5, 6, 7, 8, 9]\n",
      "4 Fixed:  [1, 2, 4, 3, 5, 6, 7, 8, 9]\n",
      "5 Fixed:  [1, 2, 4, 3, 5, 6, 7, 8, 9]\n",
      "original:  [1, 2, 4, 3, 5, 6, 7, 8, 9]\n",
      "0 Fixed:  [1, 2, 4, 3, 5, 6, 7, 8, 9]\n",
      "1 Fixed:  [1, 2, 4, 3, 5, 6, 7, 8, 9]\n",
      "2 Fixed:  [1, 2, 3, 4, 5, 6, 7, 8, 9]\n",
      "3 Fixed:  [1, 2, 3, 4, 5, 6, 7, 8, 9]\n",
      "4 Fixed:  [1, 2, 3, 4, 5, 6, 7, 8, 9]\n",
      "original:  [1, 2, 3, 4, 5, 6, 7, 8, 9]\n",
      "0 Fixed:  [1, 2, 3, 4, 5, 6, 7, 8, 9]\n",
      "1 Fixed:  [1, 2, 3, 4, 5, 6, 7, 8, 9]\n",
      "2 Fixed:  [1, 2, 3, 4, 5, 6, 7, 8, 9]\n",
      "3 Fixed:  [1, 2, 3, 4, 5, 6, 7, 8, 9]\n",
      "original:  [1, 2, 3, 4, 5, 6, 7, 8, 9]\n",
      "0 Fixed:  [1, 2, 3, 4, 5, 6, 7, 8, 9]\n",
      "1 Fixed:  [1, 2, 3, 4, 5, 6, 7, 8, 9]\n",
      "2 Fixed:  [1, 2, 3, 4, 5, 6, 7, 8, 9]\n",
      "original:  [1, 2, 3, 4, 5, 6, 7, 8, 9]\n",
      "0 Fixed:  [1, 2, 3, 4, 5, 6, 7, 8, 9]\n",
      "1 Fixed:  [1, 2, 3, 4, 5, 6, 7, 8, 9]\n",
      "original:  [1, 2, 3, 4, 5, 6, 7, 8, 9]\n",
      "0 Fixed:  [1, 2, 3, 4, 5, 6, 7, 8, 9]\n"
     ]
    },
    {
     "data": {
      "text/plain": [
       "[1, 2, 3, 4, 5, 6, 7, 8, 9]"
      ]
     },
     "execution_count": 8,
     "metadata": {},
     "output_type": "execute_result"
    }
   ],
   "source": [
    "sorted = bubble_sort(group1)\n",
    "sorted "
   ]
  },
  {
   "cell_type": "code",
   "execution_count": null,
   "metadata": {},
   "outputs": [],
   "source": []
  }
 ],
 "metadata": {
  "kernelspec": {
   "display_name": "Python 3",
   "language": "python",
   "name": "python3"
  },
  "language_info": {
   "codemirror_mode": {
    "name": "ipython",
    "version": 3
   },
   "file_extension": ".py",
   "mimetype": "text/x-python",
   "name": "python",
   "nbconvert_exporter": "python",
   "pygments_lexer": "ipython3",
   "version": "3.10.5"
  },
  "orig_nbformat": 4,
  "vscode": {
   "interpreter": {
    "hash": "e89c93e4c07d4ac8f065cea982a638287e1c61026788fcbbad7e0263e2130583"
   }
  }
 },
 "nbformat": 4,
 "nbformat_minor": 2
}
