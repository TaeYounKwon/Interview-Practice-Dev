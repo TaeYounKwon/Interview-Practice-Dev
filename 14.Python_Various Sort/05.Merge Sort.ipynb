{
 "cells": [
  {
   "attachments": {},
   "cell_type": "markdown",
   "metadata": {},
   "source": [
    "Divide and Conquer방법의 일종 \n",
    "\n",
    "리스트를 2개씩 나눠갔다가(리스트의 원소 수가 1개가 될때까지), 나눌 수 없을정도로 작아졌을 때\n",
    "\n",
    "정렬하며 합치는 방법. 정렬하면서 병합 결과를 넣어놓을 추가 배열이 필요함 다른 정렬 알고리즘과 달리 인접한 값들 값의 상호자리교대가 일어나지 않음 \n",
    "\n",
    "연결리스트 사용시 인덱스만 고치면 됨으로 c언어에서는 공간을 아낄 수 있음"
   ]
  },
  {
   "attachments": {},
   "cell_type": "markdown",
   "metadata": {},
   "source": [
    "# 방법 1: Low & High 로 표시"
   ]
  },
  {
   "cell_type": "code",
   "execution_count": 10,
   "metadata": {},
   "outputs": [],
   "source": [
    "def merge_sort_v1(arr):\n",
    "    if len(arr) < 2:\n",
    "        return arr\n",
    "\n",
    "    mid = len(arr) // 2\n",
    "    print('mid-l: ', mid)\n",
    "    low_arr = merge_sort(arr[:mid])\n",
    "    print('mid-h: ', mid)\n",
    "    high_arr = merge_sort(arr[mid:])\n",
    "\n",
    "    result = []\n",
    "    l = h = 0\n",
    "    print('l: ', low_arr)\n",
    "    print('h: ', high_arr)\n",
    "    while l < len(low_arr) and h < len(high_arr):\n",
    "        if low_arr[l] < high_arr[h]:\n",
    "            result.append(low_arr[l])\n",
    "            l += 1\n",
    "        else:\n",
    "            result.append(high_arr[h])\n",
    "            h += 1\n",
    "    print('rb: ', result)\n",
    "    result += low_arr[l:]\n",
    "    print('add-Low: ', low_arr[l:])\n",
    "    result += high_arr[h:]\n",
    "    print('add-High: ', high_arr[h:])\n",
    "    return result"
   ]
  },
  {
   "cell_type": "code",
   "execution_count": 11,
   "metadata": {},
   "outputs": [
    {
     "name": "stdout",
     "output_type": "stream",
     "text": [
      "mid-l:  4\n",
      "mid-l:  2\n",
      "mid-l:  1\n",
      "mid-h:  1\n",
      "l:  [6]\n",
      "h:  [1]\n",
      "rb:  [1]\n",
      "add-Low:  [6]\n",
      "add-High:  []\n",
      "mid-h:  2\n",
      "mid-l:  1\n",
      "mid-h:  1\n",
      "l:  [5]\n",
      "h:  [4]\n",
      "rb:  [4]\n",
      "add-Low:  [5]\n",
      "add-High:  []\n",
      "l:  [1, 6]\n",
      "h:  [4, 5]\n",
      "rb:  [1, 4, 5]\n",
      "add-Low:  [6]\n",
      "add-High:  []\n",
      "mid-h:  4\n",
      "mid-l:  2\n",
      "mid-l:  1\n",
      "mid-h:  1\n",
      "l:  [2]\n",
      "h:  [7]\n",
      "rb:  [2]\n",
      "add-Low:  []\n",
      "add-High:  [7]\n",
      "mid-h:  2\n",
      "mid-l:  1\n",
      "mid-h:  1\n",
      "mid-l:  1\n",
      "mid-h:  1\n",
      "l:  [9]\n",
      "h:  [8]\n",
      "rb:  [8]\n",
      "add-Low:  [9]\n",
      "add-High:  []\n",
      "l:  [3]\n",
      "h:  [8, 9]\n",
      "rb:  [3]\n",
      "add-Low:  []\n",
      "add-High:  [8, 9]\n",
      "l:  [2, 7]\n",
      "h:  [3, 8, 9]\n",
      "rb:  [2, 3, 7]\n",
      "add-Low:  []\n",
      "add-High:  [8, 9]\n",
      "l:  [1, 4, 5, 6]\n",
      "h:  [2, 3, 7, 8, 9]\n",
      "rb:  [1, 2, 3, 4, 5, 6]\n",
      "add-Low:  []\n",
      "add-High:  [7, 8, 9]\n"
     ]
    },
    {
     "data": {
      "text/plain": [
       "[1, 2, 3, 4, 5, 6, 7, 8, 9]"
      ]
     },
     "execution_count": 11,
     "metadata": {},
     "output_type": "execute_result"
    }
   ],
   "source": [
    "group1 = [6,1,5,4,2,7,3,9,8]\n",
    "result = merge_sort_v1(group1)\n",
    "result"
   ]
  },
  {
   "attachments": {},
   "cell_type": "markdown",
   "metadata": {},
   "source": [
    "# 방법 2. Left & Right으로 표시 (1번과 방법은 똑같음)"
   ]
  },
  {
   "cell_type": "code",
   "execution_count": 12,
   "metadata": {},
   "outputs": [],
   "source": [
    "def merge_sort_v2(arr):\n",
    "    # if there is only one element, return the element\n",
    "    if len(arr)<2:\n",
    "        return arr \n",
    "    \n",
    "    mid = len(arr)//2\n",
    "    \n",
    "    # left side of the list\n",
    "    left_arr = merge_sort_v2(arr[:mid])\n",
    "    \n",
    "    # Right side of the list\n",
    "    right_arr = merge_sort_v2(arr[mid:])\n",
    "    \n",
    "    # 가장 아랫단계부터(list원소의 크기가 1일때 부터) 결과를 담아서 위로 올림\n",
    "    result = []\n",
    "    # left & right 값 초기화 \n",
    "    left = right = 0 \n",
    "    \n",
    "    # 올라온 두개의 원소(들)을 비교하여 최소값인 원소를 찾아내어 append를 이용해 result에 먼저 추가 \n",
    "    # 원소의 개수가 여러개여도 사용 가능하나, 한쪽에서 _arr의 크기 만큼(예, len=2인데 2개 모두 left_arr에서) 나올 경우 \n",
    "    # result에 추가하고, 남은 원소들 (예-에서는 right_arr)을 추가함 \n",
    "    while left < len(left_arr) and right < len(right_arr):\n",
    "        if left_arr[left] < right_arr[right]:\n",
    "            result.append(left_arr[left])\n",
    "            left += 1\n",
    "        else:\n",
    "            result.append(right_arr[right])\n",
    "            right += 1\n",
    "    # 추가하고 남은 배열들을 추가함 \n",
    "    result += left_arr[left:]\n",
    "    result += right_arr[right:]\n",
    "    return result        "
   ]
  },
  {
   "cell_type": "code",
   "execution_count": 13,
   "metadata": {},
   "outputs": [
    {
     "data": {
      "text/plain": [
       "[1, 2, 3, 4, 5, 6, 7, 8, 9]"
      ]
     },
     "execution_count": 13,
     "metadata": {},
     "output_type": "execute_result"
    }
   ],
   "source": [
    "group1 = [6,1,5,4,2,7,3,9,8]\n",
    "result2 = merge_sort_v2(group1)\n",
    "result2"
   ]
  },
  {
   "attachments": {},
   "cell_type": "markdown",
   "metadata": {},
   "source": [
    "인덱스 접근을 이용해 입력 배열을 계속해서 업데이트하면 메모리 사용을 대폭 줄일 수 있음(In-place sort)"
   ]
  },
  {
   "cell_type": "code",
   "execution_count": 8,
   "metadata": {},
   "outputs": [],
   "source": [
    "def merge_sort_v3(arr):\n",
    "    def sort(low, high):\n",
    "        if high - low < 2:\n",
    "            return\n",
    "        mid = (low + high) // 2\n",
    "        sort(low, mid)\n",
    "        sort(mid, high)\n",
    "        merge(low, mid, high)\n",
    "        return arr\n",
    "    \n",
    "\n",
    "    def merge(low, mid, high):\n",
    "        temp = []\n",
    "        l, h = low, mid\n",
    "\n",
    "        while l < mid and h < high:\n",
    "            if arr[l] < arr[h]:\n",
    "                temp.append(arr[l])\n",
    "                l += 1\n",
    "            else:\n",
    "                temp.append(arr[h])\n",
    "                h += 1\n",
    "\n",
    "        while l < mid:\n",
    "            temp.append(arr[l])\n",
    "            l += 1\n",
    "        while h < high:\n",
    "            temp.append(arr[h])\n",
    "            h += 1\n",
    "\n",
    "        for i in range(low, high):\n",
    "            arr[i] = temp[i - low]\n",
    "\n",
    "    return sort(0, len(arr))"
   ]
  },
  {
   "cell_type": "code",
   "execution_count": 9,
   "metadata": {},
   "outputs": [
    {
     "name": "stdout",
     "output_type": "stream",
     "text": [
      "[1, 2, 3, 4, 5, 6, 7, 8, 9]\n"
     ]
    }
   ],
   "source": [
    "group1 = [6,1,5,4,2,7,3,9,8]\n",
    "result3 = merge_sort_v3(group1)\n",
    "print(result3)"
   ]
  },
  {
   "cell_type": "code",
   "execution_count": null,
   "metadata": {},
   "outputs": [],
   "source": []
  }
 ],
 "metadata": {
  "kernelspec": {
   "display_name": "Python 3",
   "language": "python",
   "name": "python3"
  },
  "language_info": {
   "codemirror_mode": {
    "name": "ipython",
    "version": 3
   },
   "file_extension": ".py",
   "mimetype": "text/x-python",
   "name": "python",
   "nbconvert_exporter": "python",
   "pygments_lexer": "ipython3",
   "version": "3.10.5"
  },
  "orig_nbformat": 4,
  "vscode": {
   "interpreter": {
    "hash": "e89c93e4c07d4ac8f065cea982a638287e1c61026788fcbbad7e0263e2130583"
   }
  }
 },
 "nbformat": 4,
 "nbformat_minor": 2
}
