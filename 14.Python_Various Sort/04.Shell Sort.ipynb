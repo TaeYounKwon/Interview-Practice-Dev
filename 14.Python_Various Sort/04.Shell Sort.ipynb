{
 "cells": [
  {
   "attachments": {},
   "cell_type": "markdown",
   "metadata": {},
   "source": [
    "결국 gap값을 이용해 삽입정렬을 하는식, 그렇기 때문에 마지막에가서는 gap=1로 삽입정렬을 실행\n",
    "\n",
    "그러나, gap을 이용해서 먼저 부분정렬을 해주기 때문에 삽입 정렬보다 더욱 빠르게 수행됨\n",
    "\n",
    "평균 T(n) = O(n^1.5)지만 최악의 상황에서는 O(n^2)을 보임\n",
    "\n",
    "정수 60,000개의 정렬 시간을 보자면 삽입정렬이 7.4초 걸린다면 셸 정렬은 0.056초로 많이 단축된 것을 볼 수 있음"
   ]
  },
  {
   "cell_type": "code",
   "execution_count": 61,
   "metadata": {},
   "outputs": [],
   "source": [
    "group1 = [6,1,5,4,2,7,3,9,8]"
   ]
  },
  {
   "cell_type": "code",
   "execution_count": 56,
   "metadata": {},
   "outputs": [],
   "source": [
    "def shell_sort(arr):\n",
    "    length = len(arr)\n",
    "    gap = length // 2\n",
    "    while gap > 0:\n",
    "        print('gap Value: ',gap)\n",
    "        for i in range(gap, length):\n",
    "            tmp = arr[i]\n",
    "            print('tmp(arr[i]) Value: ', tmp)\n",
    "            j = i - gap\n",
    "            while j >= 0 and arr[j] > tmp:\n",
    "                print('Before arr[j+gap] Value: ', arr[j+gap])\n",
    "                arr[j + gap] = arr[j]\n",
    "                j -= gap\n",
    "                print('After arr[j+gap] Value: ', arr[j+gap])\n",
    "                \n",
    "            arr[j + gap] = tmp\n",
    "            print(print('Set j+gap Value: ', arr[j+gap],'\\n'))\n",
    "        gap //= 2\n",
    " \n",
    "    return arr"
   ]
  },
  {
   "cell_type": "code",
   "execution_count": 49,
   "metadata": {},
   "outputs": [],
   "source": [
    "def shell_sort(arr):\n",
    "    length = len(arr)\n",
    "    gap = length // 2\n",
    "    while gap>0:\n",
    "        \n",
    "        for i in range(gap, length):\n",
    "            tmp = arr[i]\n",
    "            i_gap = i-gap # i로 부터 gap거리많큼 띄어진 값 (-4, ...)\n",
    "            while i_gap>= 0 and arr[i_gap] > tmp: # i_gap 의 값이 존재하고, arr[i_gap]값이 현재 비교 값보다 더 클때 \n",
    "                arr[i_gap+gap] = arr[i_gap] # arr[i_gap+gap] 비교시 값이 큰 값 을 뒤로 \n",
    "                i_gap -= gap \n",
    "            arr[i_gap+gap] = tmp # 비교했을때 작은 값의 값을 앞쪽으로 넣어줌 \n",
    "            \n",
    "        gap//=2 # gap의 크기를 넣어줌, //= 몫이 0 이상 \n",
    "    return arr "
   ]
  },
  {
   "cell_type": "code",
   "execution_count": 57,
   "metadata": {},
   "outputs": [
    {
     "name": "stdout",
     "output_type": "stream",
     "text": [
      "gap Value:  4\n",
      "tmp(arr[i]) Value:  2\n",
      "Before arr[j+gap] Value:  2\n",
      "After arr[j+gap] Value:  6\n",
      "Set j+gap Value:  2 \n",
      "\n",
      "None\n",
      "tmp(arr[i]) Value:  7\n",
      "Set j+gap Value:  7 \n",
      "\n",
      "None\n",
      "tmp(arr[i]) Value:  3\n",
      "Before arr[j+gap] Value:  3\n",
      "After arr[j+gap] Value:  5\n",
      "Set j+gap Value:  3 \n",
      "\n",
      "None\n",
      "tmp(arr[i]) Value:  9\n",
      "Set j+gap Value:  9 \n",
      "\n",
      "None\n",
      "tmp(arr[i]) Value:  8\n",
      "Set j+gap Value:  8 \n",
      "\n",
      "None\n",
      "gap Value:  2\n",
      "tmp(arr[i]) Value:  3\n",
      "Set j+gap Value:  3 \n",
      "\n",
      "None\n",
      "tmp(arr[i]) Value:  4\n",
      "Set j+gap Value:  4 \n",
      "\n",
      "None\n",
      "tmp(arr[i]) Value:  6\n",
      "Set j+gap Value:  6 \n",
      "\n",
      "None\n",
      "tmp(arr[i]) Value:  7\n",
      "Set j+gap Value:  7 \n",
      "\n",
      "None\n",
      "tmp(arr[i]) Value:  5\n",
      "Before arr[j+gap] Value:  5\n",
      "After arr[j+gap] Value:  6\n",
      "Set j+gap Value:  5 \n",
      "\n",
      "None\n",
      "tmp(arr[i]) Value:  9\n",
      "Set j+gap Value:  9 \n",
      "\n",
      "None\n",
      "tmp(arr[i]) Value:  8\n",
      "Set j+gap Value:  8 \n",
      "\n",
      "None\n",
      "gap Value:  1\n",
      "tmp(arr[i]) Value:  1\n",
      "Before arr[j+gap] Value:  1\n",
      "After arr[j+gap] Value:  2\n",
      "Set j+gap Value:  1 \n",
      "\n",
      "None\n",
      "tmp(arr[i]) Value:  3\n",
      "Set j+gap Value:  3 \n",
      "\n",
      "None\n",
      "tmp(arr[i]) Value:  4\n",
      "Set j+gap Value:  4 \n",
      "\n",
      "None\n",
      "tmp(arr[i]) Value:  5\n",
      "Set j+gap Value:  5 \n",
      "\n",
      "None\n",
      "tmp(arr[i]) Value:  7\n",
      "Set j+gap Value:  7 \n",
      "\n",
      "None\n",
      "tmp(arr[i]) Value:  6\n",
      "Before arr[j+gap] Value:  6\n",
      "After arr[j+gap] Value:  7\n",
      "Set j+gap Value:  6 \n",
      "\n",
      "None\n",
      "tmp(arr[i]) Value:  9\n",
      "Set j+gap Value:  9 \n",
      "\n",
      "None\n",
      "tmp(arr[i]) Value:  8\n",
      "Before arr[j+gap] Value:  8\n",
      "After arr[j+gap] Value:  9\n",
      "Set j+gap Value:  8 \n",
      "\n",
      "None\n"
     ]
    },
    {
     "data": {
      "text/plain": [
       "[1, 2, 3, 4, 5, 6, 7, 8, 9]"
      ]
     },
     "execution_count": 57,
     "metadata": {},
     "output_type": "execute_result"
    }
   ],
   "source": [
    "sorted = shell_sort(group1)\n",
    "sorted"
   ]
  },
  {
   "cell_type": "code",
   "execution_count": null,
   "metadata": {},
   "outputs": [],
   "source": []
  }
 ],
 "metadata": {
  "kernelspec": {
   "display_name": "Python 3",
   "language": "python",
   "name": "python3"
  },
  "language_info": {
   "codemirror_mode": {
    "name": "ipython",
    "version": 3
   },
   "file_extension": ".py",
   "mimetype": "text/x-python",
   "name": "python",
   "nbconvert_exporter": "python",
   "pygments_lexer": "ipython3",
   "version": "3.10.5"
  },
  "orig_nbformat": 4,
  "vscode": {
   "interpreter": {
    "hash": "e89c93e4c07d4ac8f065cea982a638287e1c61026788fcbbad7e0263e2130583"
   }
  }
 },
 "nbformat": 4,
 "nbformat_minor": 2
}
