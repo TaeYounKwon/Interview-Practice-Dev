{
 "cells": [
  {
   "attachments": {},
   "cell_type": "markdown",
   "metadata": {},
   "source": [
    "# 퀵정렬\n",
    "\n",
    "- 파이썬의 list.sort() 함수나 자바의 Arrays.sort()처럼 프로그래밍 언어 차원에서 기본적으로 지원되는 내장 정렬 함수는 대부분은 퀵 정렬을 기본으로 합니다.\n",
    "\n",
    "- 일반적으로 원소의 개수가 적어질수록 나쁜 중간값이 선택될 확률이 높아지기 때문에, 원소의 개수에 따라 퀵 정렬에 다른 정렬을 혼합해서 쓰는 경우가 많습니다.\n",
    "\n",
    "- 병합 정렬과 퀵 정렬은 분할 정복과 재귀 알고리즘을 사용한다는 측면에서는 유사해보이지만, 내부적으로 정렬을 하는 방식에서는 큰 차이가 있습니다.\n",
    "\n",
    "- 병합 정렬은 항상 정 중앙을 기준으로 단순 분할 후 병합 시점에서 값의 비교 연산이 발생하는 반면, 퀵 정렬은 분할 시점부터 비교 연산이 일어나기 때문에 그 이후 병합에 들어가는 비용이 매우 적거나 구현 방법에 따라서 아예 병합을 하지 않을 수도 있습니다."
   ]
  },
  {
   "cell_type": "code",
   "execution_count": 1,
   "metadata": {},
   "outputs": [],
   "source": [
    "group1 = [6,1,5,4,2,7,3,9,8]"
   ]
  },
  {
   "cell_type": "code",
   "execution_count": 4,
   "metadata": {},
   "outputs": [],
   "source": [
    "def quick_sort(arr):\n",
    "    # 원소가 1개일 경우 return\n",
    "    if len(arr) <= 1:\n",
    "        return arr\n",
    "    \n",
    "    # pivot을 중간값으로 세팅\n",
    "    pivot = arr[len(arr) // 2]\n",
    "    \n",
    "    # pivot을 기준으로 값을 나눠주기 위한 리스트\n",
    "    lesser_arr, equal_arr, greater_arr = [], [], []\n",
    "    \n",
    "    for num in arr:\n",
    "        if num < pivot:\n",
    "            lesser_arr.append(num)\n",
    "        elif num > pivot:\n",
    "            greater_arr.append(num)\n",
    "        else:\n",
    "            equal_arr.append(num)\n",
    "    \n",
    "    return quick_sort(lesser_arr) + equal_arr + quick_sort(greater_arr)"
   ]
  },
  {
   "cell_type": "code",
   "execution_count": 5,
   "metadata": {},
   "outputs": [
    {
     "data": {
      "text/plain": [
       "[1, 2, 3, 4, 5, 6, 7, 8, 9]"
      ]
     },
     "execution_count": 5,
     "metadata": {},
     "output_type": "execute_result"
    }
   ],
   "source": [
    "result = quick_sort(group1)\n",
    "result"
   ]
  },
  {
   "attachments": {},
   "cell_type": "markdown",
   "metadata": {},
   "source": [
    "# 방법 2 - 최적화!\n",
    "\n",
    "위의 코드는 구현하기는 쉽지만 매번 재귀 호출될 때 마다 새로운 리스트를 생성해야 되서 메모르 사용 측면으로 비 효율적임.\n",
    "\n",
    "- 리스트의 정 가운데 있는 값을 pivot 값을 선택합니다.\n",
    "\n",
    "- 시작 인덱스(low)는 계속 증가 시키고, 끝 인덱스(high)는 계속 감소 시키기위한 while 루프를 두 인덱스가 서로 교차해서 지나칠 때까지 반복시킵니다.\n",
    "\n",
    "- 시작 인덱스(low)가 가리키는 값과 pivot 값을 비교해서 더 작은 경우 반복해서 시작 인덱스 값을 증가시킵니다. (pivot 값보다 큰데 좌측에 있는 값을 찾기 위해)\n",
    "\n",
    "- 끝 인덱스(high)가 가리키는 값과 pivot 값을 비교해서 더 작은 경우 반복해서 끝 인덱스 값을 감소시킵니다. (pivot 값보다 작은데 우측에 있는 값을 찾기 위해)\n",
    "\n",
    "- 두 인덱스가 아직 서로 교차해서 지나치치 않았다면 시작 인덱스(low)가 가리키는 값과 끝 인덱스(high)가 가리키는 값을 상호 교대(swap) 시킵니다. (잘못된 위치에 있는 두 값의 위치를 바꾸기 위해)\n",
    "\n",
    "- 상호 교대 후, 다음 값을 가리키기 위해 두 인덱스를 각자 진행 방향으로 한 칸씩 이동 시킵니다.\n",
    "\n",
    "- 두 인덱스가 서로 교차해서 지나치게 되어 while 루프를 빠져나왔다면 다음 재귀 호출의 분할 기준점이될 시작 인덱스를 리턴합니다."
   ]
  },
  {
   "cell_type": "code",
   "execution_count": 10,
   "metadata": {},
   "outputs": [],
   "source": [
    "def quick_sort_V2(arr):\n",
    "    def sort(low, high):\n",
    "        if high <= low:\n",
    "            return\n",
    "\n",
    "        mid = partition(low, high)\n",
    "        sort(low, mid - 1)\n",
    "        sort(mid, high)\n",
    "        return arr\n",
    "\n",
    "    def partition(low, high):\n",
    "        pivot = arr[(low + high) // 2]\n",
    "        while low <= high:\n",
    "            while arr[low] < pivot:\n",
    "                low += 1\n",
    "            while arr[high] > pivot:\n",
    "                high -= 1\n",
    "            if low <= high:\n",
    "                arr[low], arr[high] = arr[high], arr[low]\n",
    "                low, high = low + 1, high - 1\n",
    "        return low\n",
    "\n",
    "    return sort(0, len(arr) - 1)"
   ]
  },
  {
   "cell_type": "code",
   "execution_count": 12,
   "metadata": {},
   "outputs": [
    {
     "data": {
      "text/plain": [
       "[1, 2, 3, 4, 5, 6, 7, 8, 9]"
      ]
     },
     "execution_count": 12,
     "metadata": {},
     "output_type": "execute_result"
    }
   ],
   "source": [
    "result = quick_sort_V2(group1)\n",
    "result"
   ]
  },
  {
   "cell_type": "code",
   "execution_count": null,
   "metadata": {},
   "outputs": [],
   "source": []
  }
 ],
 "metadata": {
  "kernelspec": {
   "display_name": "Python 3",
   "language": "python",
   "name": "python3"
  },
  "language_info": {
   "codemirror_mode": {
    "name": "ipython",
    "version": 3
   },
   "file_extension": ".py",
   "mimetype": "text/x-python",
   "name": "python",
   "nbconvert_exporter": "python",
   "pygments_lexer": "ipython3",
   "version": "3.10.5"
  },
  "orig_nbformat": 4,
  "vscode": {
   "interpreter": {
    "hash": "e89c93e4c07d4ac8f065cea982a638287e1c61026788fcbbad7e0263e2130583"
   }
  }
 },
 "nbformat": 4,
 "nbformat_minor": 2
}
