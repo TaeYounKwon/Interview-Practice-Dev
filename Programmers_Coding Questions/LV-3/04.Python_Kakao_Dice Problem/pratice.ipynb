{
 "cells": [
  {
   "cell_type": "code",
   "execution_count": 19,
   "metadata": {},
   "outputs": [],
   "source": [
    "import numpy as np \n",
    "dice = [[40, 41, 42, 43, 44, 45],[43, 43, 42, 42, 41, 41],[800, 1, 1, 1, 1, 1], [2, 2, 4, 4, 6, 6],[1, 1, 80, 80, 80, 80],[70, 70, 1, 1, 70, 70]]"
   ]
  },
  {
   "cell_type": "code",
   "execution_count": 20,
   "metadata": {},
   "outputs": [
    {
     "name": "stdout",
     "output_type": "stream",
     "text": [
      "[array([6, 6, 4, 4, 2, 2]), array([43, 43, 42, 42, 41, 41]), array([45, 44, 43, 42, 41, 40]), array([70, 70, 70, 70,  1,  1]), array([80, 80, 80, 80,  1,  1]), array([800,   1,   1,   1,   1,   1])]\n"
     ]
    }
   ],
   "source": [
    "tmp = []\n",
    "for lst in dice:\n",
    "    lst.sort(reverse=True)\n",
    "    tmp.append(np.array(lst))\n",
    "tmp.sort(key=lambda x:x[0])\n",
    "print(tmp)"
   ]
  },
  {
   "cell_type": "code",
   "execution_count": null,
   "metadata": {},
   "outputs": [],
   "source": []
  }
 ],
 "metadata": {
  "kernelspec": {
   "display_name": "jkdev",
   "language": "python",
   "name": "python3"
  },
  "language_info": {
   "codemirror_mode": {
    "name": "ipython",
    "version": 3
   },
   "file_extension": ".py",
   "mimetype": "text/x-python",
   "name": "python",
   "nbconvert_exporter": "python",
   "pygments_lexer": "ipython3",
   "version": "3.9.18"
  }
 },
 "nbformat": 4,
 "nbformat_minor": 2
}
