{
 "cells": [
  {
   "cell_type": "code",
   "execution_count": 85,
   "metadata": {},
   "outputs": [],
   "source": [
    "import datetime as dt \n",
    "import math "
   ]
  },
  {
   "cell_type": "code",
   "execution_count": 105,
   "metadata": {},
   "outputs": [],
   "source": [
    "def solution(f, r):\n",
    "    answer = []\n",
    "    f_answer = {}\n",
    "    id_list = []\n",
    "    id = {}\n",
    "    for val in r:\n",
    "        tmp = val.split(' ')\n",
    "        if tmp[1] not in id:\n",
    "            id[tmp[1]] = [tmp[0]]\n",
    "            id_list.append(tmp[1])\n",
    "        else:\n",
    "            tmp_v = id[tmp[1]]\n",
    "            tmp_v.append(tmp[0])\n",
    "            id[tmp[1]] = tmp_v\n",
    "    format = '%H:%M'            \n",
    "   \n",
    "\n",
    "    for id, time in id.items():\n",
    "        time.sort(reverse=True)\n",
    "        t_total = 0\n",
    "        # print(time)\n",
    "        \n",
    "        # time == 2 or 4\n",
    "        if not (len(time)%2):\n",
    "            start = 0 \n",
    "            for i in range(len(time)):\n",
    "                if not(i%2):\n",
    "                    end = dt.datetime.strptime(time[i], format)\n",
    "                else:\n",
    "                    cal = end - dt.datetime.strptime(time[i],format) \n",
    "                    t_total += int(cal.seconds/60)\n",
    "    \n",
    "        # time == 1 or 3                 \n",
    "        else:\n",
    "            start = 0\n",
    "            end = dt.datetime.strptime('23:59', format) \n",
    "            for i in range(len(time)):\n",
    "                if i==0:\n",
    "                    cal = end - dt.datetime.strptime(time[i],format)\n",
    "                    t_total += int(cal.seconds/60)\n",
    "                elif i%2:\n",
    "                    end = dt.datetime.strptime(time[i], format)\n",
    "                else:\n",
    "                    cal = end - dt.datetime.strptime(time[i],format) \n",
    "                    t_total += int(cal.seconds/60)\n",
    "                    \n",
    "                    \n",
    "            pass\n",
    "        fee = 0    \n",
    "        if t_total<=f[0]:\n",
    "            fee = f[1]\n",
    "        else:\n",
    "            print(math.ceil((t_total - f[0])//f[2]))\n",
    "            fee = f[1] + math.ceil((t_total - f[0])//f[2])*f[3]\n",
    "        \n",
    "        f_answer[id] = fee \n",
    "    print(f_answer)\n",
    "        \n",
    "        \n",
    "    \n",
    "    return answer"
   ]
  },
  {
   "cell_type": "code",
   "execution_count": 106,
   "metadata": {},
   "outputs": [
    {
     "name": "stdout",
     "output_type": "stream",
     "text": [
      "15\n",
      "49\n",
      "{'5961': 5000, '0000': 14000, '0148': 34400}\n"
     ]
    },
    {
     "data": {
      "text/plain": [
       "[]"
      ]
     },
     "execution_count": 106,
     "metadata": {},
     "output_type": "execute_result"
    }
   ],
   "source": [
    "fees = [180, 5000, 10, 600]\n",
    "records = [\"05:34 5961 IN\", \"06:00 0000 IN\", \"06:34 0000 OUT\", \"07:59 5961 OUT\", \"07:59 0148 IN\", \"18:59 0000 IN\", \"19:09 0148 OUT\", \"22:59 5961 IN\", \"23:00 5961 OUT\"]\n",
    "solution(fees, records)\n"
   ]
  },
  {
   "cell_type": "code",
   "execution_count": 107,
   "metadata": {},
   "outputs": [
    {
     "name": "stdout",
     "output_type": "stream",
     "text": [
      "11:47:00\n",
      "707.0\n"
     ]
    }
   ],
   "source": [
    "a = dt.datetime.strptime('05:34','%H:%M')\n",
    "b = dt.datetime.strptime('17:21','%H:%M')\n",
    "c = b-a\n",
    "print(c)\n",
    "print(c.seconds/60)"
   ]
  },
  {
   "cell_type": "code",
   "execution_count": null,
   "metadata": {},
   "outputs": [],
   "source": []
  }
 ],
 "metadata": {
  "kernelspec": {
   "display_name": "jkdev",
   "language": "python",
   "name": "python3"
  },
  "language_info": {
   "codemirror_mode": {
    "name": "ipython",
    "version": 3
   },
   "file_extension": ".py",
   "mimetype": "text/x-python",
   "name": "python",
   "nbconvert_exporter": "python",
   "pygments_lexer": "ipython3",
   "version": "3.9.18"
  }
 },
 "nbformat": 4,
 "nbformat_minor": 2
}
