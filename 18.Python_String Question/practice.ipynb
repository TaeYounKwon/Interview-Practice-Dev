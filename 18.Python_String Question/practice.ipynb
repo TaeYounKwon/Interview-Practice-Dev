{
 "cells": [
  {
   "cell_type": "code",
   "execution_count": 8,
   "metadata": {},
   "outputs": [],
   "source": [
    "words = [\"ball\", \"nose\", \"son\"]\n",
    "key_word = 'baloons'"
   ]
  },
  {
   "cell_type": "code",
   "execution_count": 9,
   "metadata": {},
   "outputs": [
    {
     "data": {
      "text/plain": [
       "list"
      ]
     },
     "execution_count": 9,
     "metadata": {},
     "output_type": "execute_result"
    }
   ],
   "source": [
    "type(words)"
   ]
  },
  {
   "cell_type": "code",
   "execution_count": 59,
   "metadata": {},
   "outputs": [],
   "source": [
    "def solution(words, key_word):\n",
    "    answer = \"Default\"\n",
    "    \n",
    "    letter_group = []\n",
    "    for i in range(len(key_word)):\n",
    "        letter_group.append(key_word[i])\n",
    "    \n",
    "    is_sub = False    \n",
    "    \n",
    "    for word in words:\n",
    "        tmp = letter_group.copy()\n",
    "       \n",
    "        for letter in word:\n",
    "            if letter in tmp:\n",
    "                index = tmp.index(letter)\n",
    "                tmp.pop(index)\n",
    "                is_sub = True\n",
    "            else:\n",
    "                is_sub = False\n",
    "                break\n",
    "        \n",
    "        if is_sub == True:\n",
    "            return word               \n",
    "    \n",
    "    return False"
   ]
  },
  {
   "cell_type": "code",
   "execution_count": 60,
   "metadata": {},
   "outputs": [
    {
     "data": {
      "text/plain": [
       "'son'"
      ]
     },
     "execution_count": 60,
     "metadata": {},
     "output_type": "execute_result"
    }
   ],
   "source": [
    "result = solution(words, key_word)\n",
    "result"
   ]
  },
  {
   "cell_type": "code",
   "execution_count": 3,
   "metadata": {},
   "outputs": [
    {
     "data": {
      "text/plain": [
       "[['a', 1], ['b', 1]]"
      ]
     },
     "execution_count": 3,
     "metadata": {},
     "output_type": "execute_result"
    }
   ],
   "source": [
    "list = [['b',1],['a',1]]\n",
    "\n",
    "list.sort()\n",
    "list"
   ]
  },
  {
   "cell_type": "code",
   "execution_count": null,
   "metadata": {},
   "outputs": [],
   "source": []
  }
 ],
 "metadata": {
  "kernelspec": {
   "display_name": "Python 3",
   "language": "python",
   "name": "python3"
  },
  "language_info": {
   "codemirror_mode": {
    "name": "ipython",
    "version": 3
   },
   "file_extension": ".py",
   "mimetype": "text/x-python",
   "name": "python",
   "nbconvert_exporter": "python",
   "pygments_lexer": "ipython3",
   "version": "3.10.5"
  },
  "orig_nbformat": 4,
  "vscode": {
   "interpreter": {
    "hash": "e89c93e4c07d4ac8f065cea982a638287e1c61026788fcbbad7e0263e2130583"
   }
  }
 },
 "nbformat": 4,
 "nbformat_minor": 2
}
