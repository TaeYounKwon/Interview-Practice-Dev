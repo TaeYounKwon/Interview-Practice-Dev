{
 "cells": [
  {
   "cell_type": "code",
   "execution_count": 113,
   "metadata": {},
   "outputs": [],
   "source": [
    "import re\n",
    "from itertools import combinations\n",
    "user_1 = [\"frodo\", \"fradi\", \"crodo\", \"abc123\", \"frodoc\"]\n",
    "banned_1 = [\"fr*d*\", \"abc1**\"]\n",
    "banned_2 = [\"*rodo\", \"*rodo\", \"******\"]\n",
    "banned_3 = [\"fr*d*\", \"*rodo\", \"******\", \"******\"]\n",
    "banned_4 = [\"fr*d*\", \"***123\", \"c****\",\"a***23\"]"
   ]
  },
  {
   "attachments": {},
   "cell_type": "markdown",
   "metadata": {},
   "source": [
    "### 불량 사용자 당첨자 목록에서 제외시키기\n",
    "\n",
    "- Possible Valid ID 찾기\n",
    "\n",
    "1. banned id에 있는 id의 길이보다 더 크면 제외\n",
    "\n",
    "2. banned id에 있는 숫자 개수보다 더 많이 있으면 제외\n",
    "\n",
    "-  ID 비교하기\n",
    "\n",
    "1. "
   ]
  },
  {
   "cell_type": "code",
   "execution_count": 121,
   "metadata": {},
   "outputs": [],
   "source": [
    "def solution(user_id, banned_id):\n",
    "    \n",
    "    answer = 0\n",
    "    \n",
    "    if len(user_id)==0 or len(banned_id) ==0:\n",
    "        return answer    \n",
    "    \n",
    "    \n",
    "    banned_user = []\n",
    "    banned_user = banned_id\n",
    "    \n",
    "    user = []\n",
    "    user = user_id\n",
    "    \n",
    "    # Comparing ID starts here!\n",
    "    \n",
    "    tmp = []\n",
    "    for i in range(len(banned_user)):\n",
    "        names = []\n",
    "        \n",
    "        for j in range(len(user)):\n",
    "          check = False\n",
    "          if len(user[j]) == len(banned_user[i]):\n",
    "              check = checkLetters(user[j], banned_user[i])\n",
    "              \n",
    "              if check==True:\n",
    "                 names.append(user[j])\n",
    "        \n",
    "        tmp.append(names)          \n",
    "    \n",
    "    id_Group = dict()\n",
    "    uniqueID = []\n",
    "    for i in range(len(tmp)):\n",
    "        uniqueID = []\n",
    "        for j in range(len(tmp[i])):\n",
    "            if tmp[i][j] not in uniqueID:\n",
    "                uniqueID.append(tmp[i][j])\n",
    "        \n",
    "            \n",
    "    return answer\n",
    "\n",
    "\n",
    "def checkLetters(id, banned):\n",
    "    isSame = True\n",
    "    for i in range(len(id)):\n",
    "        \n",
    "        if banned[i]==\"*\":\n",
    "            pass\n",
    "        elif id[i] != banned[i]:\n",
    "            isSame = False\n",
    "        else:\n",
    "            pass\n",
    "    \n",
    "    return isSame            "
   ]
  },
  {
   "cell_type": "code",
   "execution_count": 122,
   "metadata": {},
   "outputs": [
    {
     "name": "stdout",
     "output_type": "stream",
     "text": [
      "[['frodo', 'fradi'], ['frodo', 'crodo'], ['abc123', 'frodoc'], ['abc123', 'frodoc']]\n",
      "0\n"
     ]
    }
   ],
   "source": [
    "result = solution(user_1, banned_3)\n",
    "print(result)"
   ]
  },
  {
   "cell_type": "code",
   "execution_count": null,
   "metadata": {},
   "outputs": [],
   "source": []
  }
 ],
 "metadata": {
  "kernelspec": {
   "display_name": "Python 3",
   "language": "python",
   "name": "python3"
  },
  "language_info": {
   "codemirror_mode": {
    "name": "ipython",
    "version": 3
   },
   "file_extension": ".py",
   "mimetype": "text/x-python",
   "name": "python",
   "nbconvert_exporter": "python",
   "pygments_lexer": "ipython3",
   "version": "3.10.5"
  },
  "orig_nbformat": 4,
  "vscode": {
   "interpreter": {
    "hash": "e89c93e4c07d4ac8f065cea982a638287e1c61026788fcbbad7e0263e2130583"
   }
  }
 },
 "nbformat": 4,
 "nbformat_minor": 2
}
