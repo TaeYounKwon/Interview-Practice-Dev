{
 "cells": [
  {
   "attachments": {},
   "cell_type": "markdown",
   "metadata": {},
   "source": [
    "### Greedy?\n",
    "\n",
    "- 앞에서 했던 그리디와는 조금 다르게\n",
    "\n",
    "- 각 화폐의 가치는 각각 단위 x 화폐의 종류(금,은,동)으로 되어 있음\n",
    "\n",
    "- 각 화폐의 무계는 각각 단위의 무계 x 화폐의 종류(금,은,동)의 무게로 되어 잇음 (소숫점 1자리까지!)\n",
    "\n",
    "- 가장 적은 숫자로 돈을 주는 경우와\n",
    "\n",
    "- 가장 가볍게 돈을 주는 경우를 비교 후\n",
    "\n",
    "- *** 여기서 가장 적은 숫자에 가장 적은 무게로 거스름돈을 주려면 ***\n",
    "\n",
    "- 어떻게 해야할까?\n",
    "\n",
    "- Greedy 알고리즘이 과연 정답일까?!"
   ]
  },
  {
   "attachments": {},
   "cell_type": "markdown",
   "metadata": {},
   "source": [
    "### 방법1. 가장 적은 숫자\n",
    "\n",
    "- 금 동전으로 다 계산 후 \n",
    "\n",
    "- 남은 동전을 은 -> 동 순으로 계산하는게 가장 적계 나오나?"
   ]
  },
  {
   "cell_type": "code",
   "execution_count": 108,
   "metadata": {},
   "outputs": [],
   "source": [
    "\n",
    "def solution(price, pay):\n",
    "    \n",
    "    # Data Given\n",
    "    stones = {'gold':[7,7],'silver':[3,3],'bronze':(1,1)}\n",
    "    money = [500,200,100,50,10,5,1]\n",
    "    m_weight = [50,20,10,5,1,0.5,0.1]     \n",
    "    \n",
    "    # pay less than price, return false\n",
    "    if pay<price:\n",
    "        return False\n",
    "    \n",
    "    answer = dict()\n",
    "    weightT = 0\n",
    "    left_over = pay - price\n",
    "    print(\"Coin Info\")\n",
    "    print(\"Gold = price&weight x 7\")\n",
    "    print(\"Silver = price&weight x 3\")\n",
    "    print(\"Bronze = price&weight x 1\")\n",
    "    \n",
    "    print(\"Change: \",left_over)\n",
    "        \n",
    "    gold_v = []\n",
    "    silver_v = []\n",
    "    bronze_v = []\n",
    "    gold_w = []\n",
    "    silver_w = []\n",
    "    bronze_w = []\n",
    "    \n",
    "    for i in range(len(money)):\n",
    "        gold_v.append(money[i]*stones['gold'][0])\n",
    "        silver_v.append(money[i]*stones['silver'][0])\n",
    "        bronze_v.append(money[i]*stones['bronze'][0])\n",
    "        gold_w.append(m_weight[i]*stones['gold'][1])\n",
    "        silver_w.append(m_weight[i]*stones['silver'][1])\n",
    "        bronze_w.append(m_weight[i]*stones['bronze'][1])\n",
    "    \n",
    "    print(\"-----------------------------\")\n",
    "    print(\"Method 1. Minimum Number of Coin!\")\n",
    "    payed_T = 0\n",
    "    coin_Type = 'Gold'\n",
    "    for j in range(len(gold_v)):\n",
    "        coins = gold_v[j]\n",
    "        curr_weight = gold_w[j]\n",
    "        coin_original = coins//stones['gold'][0]\n",
    "        if coins>left_over:\n",
    "            pass\n",
    "        else:\n",
    "            numb = left_over//coins\n",
    "            weightT += curr_weight*numb \n",
    "            if coin_Type not in answer:\n",
    "                answer[coin_Type]=[[coin_original,numb]]     \n",
    "            else:\n",
    "                answer[coin_Type].append([coin_original,numb])   \n",
    "            left_over = left_over%coins\n",
    "    \n",
    "    print('After Gold, Left Over: ', left_over)        \n",
    "    \n",
    "             \n",
    "    \n",
    "    print('Weight Total: ', weightT)\n",
    "    return answer, weightT"
   ]
  },
  {
   "cell_type": "code",
   "execution_count": 109,
   "metadata": {},
   "outputs": [
    {
     "name": "stdout",
     "output_type": "stream",
     "text": [
      "Coin Info\n",
      "Gold = price&weight x 7\n",
      "Silver = price&weight x 3\n",
      "Bronze = price&weight x 1\n",
      "Change:  2930\n",
      "-----------------------------\n",
      "Method 1. Minimum Number of Coin!\n",
      "After Gold, Left Over:  4\n",
      "Weight Total:  292.6\n",
      "{'Gold': [[200, 2], [10, 1], [5, 1], [1, 3]]}\n"
     ]
    }
   ],
   "source": [
    "result, weight = solution(70, 3000)\n",
    "print(result)"
   ]
  },
  {
   "cell_type": "code",
   "execution_count": null,
   "metadata": {},
   "outputs": [],
   "source": []
  }
 ],
 "metadata": {
  "kernelspec": {
   "display_name": "Python 3",
   "language": "python",
   "name": "python3"
  },
  "language_info": {
   "codemirror_mode": {
    "name": "ipython",
    "version": 3
   },
   "file_extension": ".py",
   "mimetype": "text/x-python",
   "name": "python",
   "nbconvert_exporter": "python",
   "pygments_lexer": "ipython3",
   "version": "3.10.5"
  },
  "orig_nbformat": 4,
  "vscode": {
   "interpreter": {
    "hash": "e89c93e4c07d4ac8f065cea982a638287e1c61026788fcbbad7e0263e2130583"
   }
  }
 },
 "nbformat": 4,
 "nbformat_minor": 2
}
