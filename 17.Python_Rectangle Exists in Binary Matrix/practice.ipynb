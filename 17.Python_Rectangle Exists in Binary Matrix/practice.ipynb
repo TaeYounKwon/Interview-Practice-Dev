{
 "cells": [
  {
   "cell_type": "code",
   "execution_count": 8,
   "metadata": {},
   "outputs": [],
   "source": [
    "mat = [[1, 0, 0, 1, 0],\n",
    "       [0, 0, 1, 0, 1],\n",
    "       [0, 0, 0, 1, 0],\n",
    "       [1, 0, 1, 0, 1]]"
   ]
  },
  {
   "cell_type": "code",
   "execution_count": 9,
   "metadata": {},
   "outputs": [],
   "source": [
    "# Brute Force Approch\n",
    "def isRectangle_v1(m):\n",
    " \n",
    "    # finding row and column size\n",
    "    rows = len(m)\n",
    "    if (rows == 0):\n",
    "        return False\n",
    "    columns = len(m[0])\n",
    " \n",
    "    # scanning the matrix\n",
    "    for y1 in range(rows):\n",
    " \n",
    "        for x1 in range(columns):\n",
    " \n",
    "            # if any index found 1 then\n",
    "            # try for all rectangles\n",
    "            if (m[y1][x1] == 1):\n",
    "                for y2 in range(y1 + 1, rows):\n",
    "                    for x2 in range(x1 + 1, columns):\n",
    "                        if (m[y1][x2] == 1 and\n",
    "                            m[y2][x1] == 1 and\n",
    "                            m[y2][x2] == 1):\n",
    "                            return True"
   ]
  },
  {
   "cell_type": "code",
   "execution_count": 10,
   "metadata": {},
   "outputs": [
    {
     "name": "stdout",
     "output_type": "stream",
     "text": [
      "Yes\n"
     ]
    }
   ],
   "source": [
    "if (isRectangle_v1(mat)):\n",
    "    print(\"Yes\")\n",
    "else:\n",
    "    print(\"No\")"
   ]
  },
  {
   "cell_type": "code",
   "execution_count": null,
   "metadata": {},
   "outputs": [],
   "source": []
  }
 ],
 "metadata": {
  "kernelspec": {
   "display_name": "Python 3",
   "language": "python",
   "name": "python3"
  },
  "language_info": {
   "codemirror_mode": {
    "name": "ipython",
    "version": 3
   },
   "file_extension": ".py",
   "mimetype": "text/x-python",
   "name": "python",
   "nbconvert_exporter": "python",
   "pygments_lexer": "ipython3",
   "version": "3.10.5"
  },
  "orig_nbformat": 4,
  "vscode": {
   "interpreter": {
    "hash": "e89c93e4c07d4ac8f065cea982a638287e1c61026788fcbbad7e0263e2130583"
   }
  }
 },
 "nbformat": 4,
 "nbformat_minor": 2
}
