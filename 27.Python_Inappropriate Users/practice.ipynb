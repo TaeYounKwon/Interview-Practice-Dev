{
 "cells": [
  {
   "cell_type": "code",
   "execution_count": 40,
   "metadata": {},
   "outputs": [],
   "source": [
    "import re\n",
    "\n",
    "user_1 = [\"frodo\", \"fradi\", \"crodo\", \"abc123\", \"freedom646\", \"kim87658\", \"frodoc\"]\n",
    "banned_1 = [\"fr*d*\", \"abc1**\"]\n",
    "banned_2 = [\"*rodo\", \"*rodo\", \"******\"]\n",
    "banned_3 = [\"fr*d*\", \"*rodo\", \"******\", \"******\"]\n",
    "banned_4 = [\"fr*d*\", \"***123\", \"c****\"]\n",
    "banned_5 = []"
   ]
  },
  {
   "attachments": {},
   "cell_type": "markdown",
   "metadata": {},
   "source": [
    "### 불량 사용자 당첨자 목록에서 제외시키기\n",
    "\n",
    "- Possible Valid ID 찾기\n",
    "\n",
    "1. banned id에 있는 id의 길이보다 더 크면 제외\n",
    "\n",
    "2. banned id에 있는 숫자 개수보다 더 많이 있으면 제외\n",
    "\n",
    "-  ID 비교하기\n",
    "\n",
    "1. "
   ]
  },
  {
   "cell_type": "code",
   "execution_count": 55,
   "metadata": {},
   "outputs": [],
   "source": [
    "def solution(user_id, banned_id):\n",
    "    \n",
    "    answer = 0\n",
    "    \n",
    "    if len(user_id)==0 or len(banned_id) ==0:\n",
    "        return answer    \n",
    "    \n",
    "    \n",
    "    banned_user = []\n",
    "    banned_user = banned_id\n",
    "    max_banned_length = 0\n",
    "    banned_number_length = 0\n",
    "    \n",
    "    # illimiate unnessasary ids\n",
    "    for banned in banned_id:\n",
    "        \n",
    "        # Get max length of string from banned_id\n",
    "        if len(banned)> max_banned_length:\n",
    "            max_banned_length = len(banned)\n",
    "        \n",
    "        # Get max length of numbers in banned_id\n",
    "        tmp_numb = re.sub(r'[^0-9]','',banned)\n",
    "        \n",
    "        \n",
    "        if len(tmp_numb) > banned_number_length:\n",
    "            banned_number_length = len(tmp_numb)\n",
    "        \n",
    "    user = []\n",
    "    \n",
    "    # Put possible valid ID\n",
    "    for ids in user_id:\n",
    "        tmp_numb = re.sub(r'[^0-9]','',ids)\n",
    "        \n",
    "        if len(ids) > max_banned_length:\n",
    "            pass\n",
    "        elif len(tmp_numb) > banned_number_length:\n",
    "            pass\n",
    "        else:\n",
    "            user.append(ids)\n",
    "    \n",
    "    # Comparing ID starts here!\n",
    "            \n",
    "    print(banned_user)\n",
    "    print(user)\n",
    "            \n",
    "    \n",
    "\n",
    "    \n",
    "    return answer"
   ]
  },
  {
   "cell_type": "code",
   "execution_count": 56,
   "metadata": {},
   "outputs": [
    {
     "name": "stdout",
     "output_type": "stream",
     "text": [
      "['fr*d*', '***123', 'c****']\n",
      "['frodo', 'fradi', 'crodo', 'abc123', 'frodoc']\n",
      "0\n"
     ]
    }
   ],
   "source": [
    "result = solution(user_1, banned_4)\n",
    "print(result)"
   ]
  },
  {
   "cell_type": "code",
   "execution_count": null,
   "metadata": {},
   "outputs": [],
   "source": []
  }
 ],
 "metadata": {
  "kernelspec": {
   "display_name": "Python 3",
   "language": "python",
   "name": "python3"
  },
  "language_info": {
   "codemirror_mode": {
    "name": "ipython",
    "version": 3
   },
   "file_extension": ".py",
   "mimetype": "text/x-python",
   "name": "python",
   "nbconvert_exporter": "python",
   "pygments_lexer": "ipython3",
   "version": "3.10.5"
  },
  "orig_nbformat": 4,
  "vscode": {
   "interpreter": {
    "hash": "e89c93e4c07d4ac8f065cea982a638287e1c61026788fcbbad7e0263e2130583"
   }
  }
 },
 "nbformat": 4,
 "nbformat_minor": 2
}
