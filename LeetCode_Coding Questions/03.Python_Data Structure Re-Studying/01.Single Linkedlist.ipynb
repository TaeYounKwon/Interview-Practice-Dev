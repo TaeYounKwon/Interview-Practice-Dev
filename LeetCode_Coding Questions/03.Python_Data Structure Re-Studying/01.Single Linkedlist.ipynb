{
 "cells": [
  {
   "cell_type": "code",
   "execution_count": 3,
   "metadata": {},
   "outputs": [],
   "source": [
    "class Node:\n",
    "    def __init__(self, data):\n",
    "        self.data = data\n",
    "        self.next = None"
   ]
  },
  {
   "cell_type": "code",
   "execution_count": 3,
   "metadata": {},
   "outputs": [],
   "source": [
    "class LinkedList:\n",
    "    \n",
    "    # Initialize the LinkedList\n",
    "    def __init__(self, data):\n",
    "        new_node = Node(data)\n",
    "        self.head = new_node\n",
    "        self.list_size = 1 # Collect list_size data to decrease the searching time O(n) -> O(1)\n",
    "        \n",
    "    # Get node info of certain index\n",
    "    def getNode(self,index):\n",
    "        # Prevent Overflow\n",
    "        if self.list_size < index:\n",
    "            return \n",
    "        node = self.head \n",
    "        \n",
    "        count = 0\n",
    "        while count<index:\n",
    "            node = node.next \n",
    "            count += 1\n",
    "            \n",
    "        return node           \n",
    "        \n",
    "    # Insert New Node at the front    \n",
    "    def insertFront(self, data):\n",
    "        \n",
    "        # Create New Node\n",
    "        new_node = Node(data)\n",
    "        \n",
    "        # Save the original head\n",
    "        tmp_node = self.head \n",
    "        \n",
    "        # Move head to new_node\n",
    "        self.head = new_node \n",
    "        \n",
    "        # Move original head to new node\n",
    "        self.head.next = tmp_node \n",
    "        \n",
    "        # Increase list size by 1 \n",
    "        self.list_size += 1\n",
    "        print(\"New Node inserted at the front\")\n",
    "    \n",
    "    def insertMiddle(self, data, index): \n",
    "        if self.head.next == None:\n",
    "            # using this method right after head is built\n",
    "            self.insertEnd(data)\n",
    "            return\n",
    "        \n",
    "        node = self.get_node(index)\n",
    "        new_node  = Node(data)\n",
    "        tmp_next = node.next \n",
    "        node.next = new_node \n",
    "        new_node.next = tmp_next \n",
    "        self.list_size += 1\n",
    "        print(\"New Node inserted at \",index)\n",
    "    \n",
    "    def insertEnd(self, data):\n",
    "        \n",
    "        node = self.head \n",
    "        \n",
    "        # Move the node until None(last Node)\n",
    "        while node.next is not None:\n",
    "            node = node.next \n",
    "        \n",
    "        \n",
    "        new_node = Node(data)\n",
    "    \n",
    "        # Connect the new Node to the last\n",
    "        node.next = Node(data)\n",
    "        \n",
    "        # Increase list size by 1 \n",
    "        self.list_size += 1\n",
    "        print(\"New Node inserted at the end\")\n",
    "        \n",
    "    def deleteHead(self):\n",
    "        node = self.head\n",
    "        self.head = node.next\n",
    "        del node      \n",
    "        \n",
    "    def deleteNode(self, index):\n",
    "        # Prevent Underflow\n",
    "        if self.list_size<1:\n",
    "            return \n",
    "            \n",
    "        # Prevent Overflow    \n",
    "        elif self.list_size <index:\n",
    "            return\n",
    "        \n",
    "        if index ==0:\n",
    "            self.deleteHead()\n",
    "            return \n",
    "        \n",
    "        node = self.getNode(index -1)\n",
    "        node.next = node.next.next \n",
    "        del_node = node.next \n",
    "        del del_node \n",
    "             \n",
    "    def print_all(self):\n",
    "        current = self.head \n",
    "        while current is not None:\n",
    "            print(current.data)\n",
    "            current = current.next\n",
    "            \n",
    "            \n",
    "    \n",
    "    \n",
    "           "
   ]
  },
  {
   "cell_type": "code",
   "execution_count": 5,
   "metadata": {},
   "outputs": [],
   "source": [
    "newNode = LinkedList(1)\n"
   ]
  },
  {
   "cell_type": "code",
   "execution_count": 6,
   "metadata": {},
   "outputs": [],
   "source": [
    "newNode.append(2)"
   ]
  },
  {
   "cell_type": "code",
   "execution_count": 7,
   "metadata": {},
   "outputs": [
    {
     "name": "stdout",
     "output_type": "stream",
     "text": [
      "1\n",
      "2\n"
     ]
    }
   ],
   "source": [
    "newNode.print_all()"
   ]
  },
  {
   "cell_type": "code",
   "execution_count": 8,
   "metadata": {},
   "outputs": [],
   "source": [
    "newNode.add_node(0,3)"
   ]
  },
  {
   "cell_type": "code",
   "execution_count": 9,
   "metadata": {},
   "outputs": [
    {
     "name": "stdout",
     "output_type": "stream",
     "text": [
      "3\n",
      "1\n",
      "2\n"
     ]
    }
   ],
   "source": [
    "newNode.print_all()"
   ]
  },
  {
   "cell_type": "code",
   "execution_count": 10,
   "metadata": {},
   "outputs": [],
   "source": [
    "newNode.add_node(2,4)"
   ]
  },
  {
   "cell_type": "code",
   "execution_count": 11,
   "metadata": {},
   "outputs": [
    {
     "name": "stdout",
     "output_type": "stream",
     "text": [
      "<__main__.Node object at 0x00000228363C1CC0> \n",
      "\n",
      "<__main__.Node object at 0x00000228363C3EB0> \n",
      "\n",
      "<__main__.Node object at 0x00000228363C3E80> \n",
      "\n"
     ]
    }
   ],
   "source": [
    "newNode.append(5)"
   ]
  },
  {
   "cell_type": "code",
   "execution_count": 21,
   "metadata": {},
   "outputs": [
    {
     "name": "stdout",
     "output_type": "stream",
     "text": [
      "3\n",
      "1\n",
      "4\n",
      "2\n"
     ]
    }
   ],
   "source": [
    "newNode.print_all()"
   ]
  },
  {
   "cell_type": "code",
   "execution_count": 22,
   "metadata": {},
   "outputs": [],
   "source": [
    "newNode.delete_node(1)"
   ]
  },
  {
   "cell_type": "code",
   "execution_count": 23,
   "metadata": {},
   "outputs": [
    {
     "name": "stdout",
     "output_type": "stream",
     "text": [
      "3\n",
      "4\n",
      "2\n"
     ]
    }
   ],
   "source": [
    "newNode.print_all()"
   ]
  },
  {
   "cell_type": "code",
   "execution_count": null,
   "metadata": {},
   "outputs": [],
   "source": []
  }
 ],
 "metadata": {
  "kernelspec": {
   "display_name": "Python 3",
   "language": "python",
   "name": "python3"
  },
  "language_info": {
   "codemirror_mode": {
    "name": "ipython",
    "version": 3
   },
   "file_extension": ".py",
   "mimetype": "text/x-python",
   "name": "python",
   "nbconvert_exporter": "python",
   "pygments_lexer": "ipython3",
   "version": "3.10.5 (tags/v3.10.5:f377153, Jun  6 2022, 16:14:13) [MSC v.1929 64 bit (AMD64)]"
  },
  "orig_nbformat": 4,
  "vscode": {
   "interpreter": {
    "hash": "e89c93e4c07d4ac8f065cea982a638287e1c61026788fcbbad7e0263e2130583"
   }
  }
 },
 "nbformat": 4,
 "nbformat_minor": 2
}
