{
 "cells": [
  {
   "cell_type": "code",
   "execution_count": 9,
   "metadata": {},
   "outputs": [],
   "source": [
    "numb_start = 37\n",
    "numb_divide = 3"
   ]
  },
  {
   "cell_type": "code",
   "execution_count": 21,
   "metadata": {},
   "outputs": [],
   "source": [
    "def solution(s, n):\n",
    "    \n",
    "    answer = 0\n",
    "    start = s\n",
    "    divide = n \n",
    "    count =0\n",
    "    \n",
    "    while(True):\n",
    "        print(start)\n",
    "        if start ==1:\n",
    "            break\n",
    "        \n",
    "        if start % divide == 0:\n",
    "            start = start//divide\n",
    "            count += 1 \n",
    "        else:\n",
    "            start -= 1\n",
    "            count += 1        \n",
    "    \n",
    "    \n",
    "    answer = count\n",
    "    \n",
    "    return answer"
   ]
  },
  {
   "cell_type": "code",
   "execution_count": 24,
   "metadata": {},
   "outputs": [
    {
     "name": "stdout",
     "output_type": "stream",
     "text": [
      "37\n",
      "36\n",
      "12\n",
      "4\n",
      "3\n",
      "1\n",
      "Steps Required:  5\n"
     ]
    }
   ],
   "source": [
    "result = solution(numb_start, numb_divide)\n",
    "print(\"Steps Required: \",result)"
   ]
  }
 ],
 "metadata": {
  "kernelspec": {
   "display_name": "Python 3",
   "language": "python",
   "name": "python3"
  },
  "language_info": {
   "codemirror_mode": {
    "name": "ipython",
    "version": 3
   },
   "file_extension": ".py",
   "mimetype": "text/x-python",
   "name": "python",
   "nbconvert_exporter": "python",
   "pygments_lexer": "ipython3",
   "version": "3.10.5"
  },
  "orig_nbformat": 4,
  "vscode": {
   "interpreter": {
    "hash": "e89c93e4c07d4ac8f065cea982a638287e1c61026788fcbbad7e0263e2130583"
   }
  }
 },
 "nbformat": 4,
 "nbformat_minor": 2
}
