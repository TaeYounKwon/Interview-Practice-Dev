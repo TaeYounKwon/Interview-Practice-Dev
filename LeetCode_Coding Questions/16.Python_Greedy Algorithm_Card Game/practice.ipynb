{
 "cells": [
  {
   "attachments": {},
   "cell_type": "markdown",
   "metadata": {},
   "source": [
    "### 문제 설명\n",
    "\n",
    "- 카드가 mxn열로 이루어져 있음\n",
    "\n",
    "- 여기서 최종 목표는 마지막에 가장 큰 수의 카드를 뽑는 것\n",
    "\n",
    "- 그렇게 하기 위해서 가장 먼저 뽑아야할 카드 숫자를 return해야함\n",
    "\n",
    "\n",
    "### 해결 방법\n",
    "\n",
    "- 일단 가장 마지막으로 뽑아야할 최댓값을 찾고\n",
    "\n",
    "- 최댓값이 몇개 존재하는지도 찾음\n",
    "\n",
    "    - 이 때, 각 열에 최댓값이 있는지 없는지로 확인해서 count + 1을 해줌\n",
    "\n",
    "    - 한 열에 여러개의 최댓값이 있어도, 그냥 count + 1로만 함\n",
    "\n",
    "        - 이유는, 최댓값을 일일이 count하게 되면, [1,99,99,99],[2,3,4],[5,6,7]일때 99가 3개 있는걸로 확인해서 \n",
    "\n",
    "        - 가장 먼저 1을 뽑아버리는 불상사를 막기 위해서\n",
    "\n",
    "- 그 후, 최댓값 개수에 따라 for문을 구현해서 최솟값을 찾아 반환해줌\n",
    "\n"
   ]
  },
  {
   "cell_type": "code",
   "execution_count": 63,
   "metadata": {},
   "outputs": [],
   "source": [
    "card1 = [\n",
    "    [3,5,2],\n",
    "    [4,2,4],\n",
    "    [2,1,6]\n",
    "        ]\n",
    "\n",
    "card2 = [\n",
    "    [3,3,6],\n",
    "    [4,2,4],\n",
    "    [2,1,6]\n",
    "        ]"
   ]
  },
  {
   "cell_type": "code",
   "execution_count": 64,
   "metadata": {},
   "outputs": [],
   "source": [
    "def solution(card):\n",
    "    answer = -1\n",
    "    \n",
    "    min_val = min(card)\n",
    "    max_val = max(card)\n",
    "    \n",
    "    \n",
    "    # isTrue = False\n",
    "    tmp_min = 10001\n",
    "    tmp_max = -1\n",
    "    for curr in card:\n",
    "        #curr_min = min(curr)\n",
    "        curr_max = max(curr)\n",
    "        \n",
    "        # if tmp_min>curr_min:\n",
    "        #     tmp_min = curr_min\n",
    "        \n",
    "        if tmp_max < curr_max:\n",
    "            tmp_max = curr_max\n",
    "    \n",
    "    count_max = 0\n",
    "    for curr in card:\n",
    "        if tmp_max in curr:\n",
    "            count_max +=1 \n",
    "            \n",
    "    if count_max == 1:\n",
    "        for curr in card:\n",
    "            if tmp_max in curr:\n",
    "                pass\n",
    "            else:\n",
    "                curr_min = min(curr)\n",
    "                if tmp_min>curr_min:\n",
    "                    tmp_min = curr_min\n",
    "    \n",
    "    else:\n",
    "        for curr in card:\n",
    "            curr_min = min(curr)\n",
    "            if tmp_min>curr_min:\n",
    "                tmp_min = curr_min\n",
    "\n",
    "    answer = curr_min\n",
    "    \n",
    "    return answer"
   ]
  },
  {
   "cell_type": "code",
   "execution_count": 65,
   "metadata": {},
   "outputs": [
    {
     "name": "stdout",
     "output_type": "stream",
     "text": [
      "1\n"
     ]
    }
   ],
   "source": [
    "result = solution(card2)\n",
    "print(result)"
   ]
  }
 ],
 "metadata": {
  "kernelspec": {
   "display_name": "Python 3",
   "language": "python",
   "name": "python3"
  },
  "language_info": {
   "codemirror_mode": {
    "name": "ipython",
    "version": 3
   },
   "file_extension": ".py",
   "mimetype": "text/x-python",
   "name": "python",
   "nbconvert_exporter": "python",
   "pygments_lexer": "ipython3",
   "version": "3.10.5"
  },
  "orig_nbformat": 4,
  "vscode": {
   "interpreter": {
    "hash": "e89c93e4c07d4ac8f065cea982a638287e1c61026788fcbbad7e0263e2130583"
   }
  }
 },
 "nbformat": 4,
 "nbformat_minor": 2
}
