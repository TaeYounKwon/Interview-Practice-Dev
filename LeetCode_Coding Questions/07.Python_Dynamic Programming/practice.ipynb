{
 "cells": [
  {
   "cell_type": "code",
   "execution_count": 38,
   "metadata": {},
   "outputs": [],
   "source": [
    "def solution(money):\n",
    "    answer = 0\n",
    "    \n",
    "    # Setup two group to cal the money\n",
    "    with_first = [0 for _ in range(1000000+1)]\n",
    "    with_last = [0 for _ in range(1000000+1)]\n",
    "    \n",
    "    # Set up one group to take the money from the first house, but not from the last house\n",
    "    with_first[0] = 0\n",
    "    with_first[1] = money[0] # take money from the first house\n",
    "    \n",
    "    # Set up the other group to take the money from the last house, but not from the first house   \n",
    "    with_last[0] = 0\n",
    "    with_last[1] = 0 # skip the first house\n",
    "    \n",
    "    # Start from the 2\n",
    "    for i in range(2, len(money)+1):\n",
    "        print('\\ni val:',i)\n",
    "        if i < len(money):\n",
    "            with_first[i] = max(with_first[i-1], with_first[i-2]+money[i-1])\n",
    "            print('with F: ', with_first[i])\n",
    "            with_last[i] = max(with_last[i-1], with_last[i-2]+money[i-1])\n",
    "            print('with L: ', with_last[i])\n",
    "        else:\n",
    "            with_last[i] = max(with_last[i-1], with_last[i-2]+money[i-1])\n",
    "            print('with L last: ', with_last[i])\n",
    "    \n",
    "    answer = max(with_first[len(money)-1], with_last[len(money)])\n",
    "    return answer"
   ]
  },
  {
   "cell_type": "code",
   "execution_count": 39,
   "metadata": {},
   "outputs": [],
   "source": [
    "money = [1, 3,5,4,3,2,1]"
   ]
  },
  {
   "cell_type": "code",
   "execution_count": 40,
   "metadata": {},
   "outputs": [
    {
     "name": "stdout",
     "output_type": "stream",
     "text": [
      "\n",
      "i val: 2\n",
      "with F:  3\n",
      "with L:  3\n",
      "\n",
      "i val: 3\n",
      "with F:  6\n",
      "with L:  5\n",
      "\n",
      "i val: 4\n",
      "with F:  7\n",
      "with L:  7\n",
      "\n",
      "i val: 5\n",
      "with F:  9\n",
      "with L:  8\n",
      "\n",
      "i val: 6\n",
      "with F:  9\n",
      "with L:  9\n",
      "\n",
      "i val: 7\n",
      "with L last:  9\n"
     ]
    },
    {
     "data": {
      "text/plain": [
       "9"
      ]
     },
     "execution_count": 40,
     "metadata": {},
     "output_type": "execute_result"
    }
   ],
   "source": [
    "result = solution(money)\n",
    "result"
   ]
  },
  {
   "cell_type": "code",
   "execution_count": null,
   "metadata": {},
   "outputs": [],
   "source": []
  }
 ],
 "metadata": {
  "kernelspec": {
   "display_name": "Python 3",
   "language": "python",
   "name": "python3"
  },
  "language_info": {
   "codemirror_mode": {
    "name": "ipython",
    "version": 3
   },
   "file_extension": ".py",
   "mimetype": "text/x-python",
   "name": "python",
   "nbconvert_exporter": "python",
   "pygments_lexer": "ipython3",
   "version": "3.10.5"
  },
  "orig_nbformat": 4,
  "vscode": {
   "interpreter": {
    "hash": "e89c93e4c07d4ac8f065cea982a638287e1c61026788fcbbad7e0263e2130583"
   }
  }
 },
 "nbformat": 4,
 "nbformat_minor": 2
}
