{
 "cells": [
  {
   "cell_type": "code",
   "execution_count": 10,
   "metadata": {},
   "outputs": [],
   "source": [
    "money = [1,2,4,7,5,3,6]"
   ]
  },
  {
   "cell_type": "code",
   "execution_count": 27,
   "metadata": {},
   "outputs": [],
   "source": [
    "def solution(money):\n",
    "    answer = 0\n",
    "    \n",
    "    with_first =  [0 for i in range(0, 10000000+1)]\n",
    "    with_last = [0 for i in range(0, 10000000+1)]\n",
    "    \n",
    "    with_first[0] = 0\n",
    "    with_first[1] = money[1]\n",
    "    \n",
    "    with_last[0] = 0\n",
    "    with_last[1] = 0\n",
    "\n",
    "\n",
    "    for i in range(2, len(money)+1):\n",
    "        if i <len(money):\n",
    "            with_first[i] = max(with_first[i-1], with_first[i-2]+money[i-1])\n",
    "            with_last[i] = max(with_last[i-1], with_last[i-2]+money[i-1])\n",
    "        else:\n",
    "            with_last[i] = max(with_last[i-1], with_last[i-2]+money[i-1])\n",
    "            \n",
    "    answer = max(with_first[len(money)-1], with_last[len(money)])\n",
    "    \n",
    "    \n",
    "    \n",
    "    return answer"
   ]
  },
  {
   "cell_type": "code",
   "execution_count": 28,
   "metadata": {},
   "outputs": [
    {
     "data": {
      "text/plain": [
       "15"
      ]
     },
     "execution_count": 28,
     "metadata": {},
     "output_type": "execute_result"
    }
   ],
   "source": [
    "result = solution(money)\n",
    "result"
   ]
  },
  {
   "cell_type": "code",
   "execution_count": null,
   "metadata": {},
   "outputs": [],
   "source": []
  }
 ],
 "metadata": {
  "kernelspec": {
   "display_name": "Python 3",
   "language": "python",
   "name": "python3"
  },
  "language_info": {
   "codemirror_mode": {
    "name": "ipython",
    "version": 3
   },
   "file_extension": ".py",
   "mimetype": "text/x-python",
   "name": "python",
   "nbconvert_exporter": "python",
   "pygments_lexer": "ipython3",
   "version": "3.10.5 (tags/v3.10.5:f377153, Jun  6 2022, 16:14:13) [MSC v.1929 64 bit (AMD64)]"
  },
  "orig_nbformat": 4,
  "vscode": {
   "interpreter": {
    "hash": "e89c93e4c07d4ac8f065cea982a638287e1c61026788fcbbad7e0263e2130583"
   }
  }
 },
 "nbformat": 4,
 "nbformat_minor": 2
}
