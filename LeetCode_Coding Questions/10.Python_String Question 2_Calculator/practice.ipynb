{
 "cells": [
  {
   "cell_type": "code",
   "execution_count": 35,
   "metadata": {},
   "outputs": [],
   "source": [
    "sample = '2+3-999'"
   ]
  },
  {
   "cell_type": "code",
   "execution_count": 48,
   "metadata": {},
   "outputs": [],
   "source": [
    "def solution(string):\n",
    "    word = string \n",
    "    answer = 0\n",
    "    count = 0\n",
    "    tmpList = []\n",
    "    \n",
    "    \n",
    "    \n",
    "    for letter in word:\n",
    "       \n",
    "        if len(tmpList) == 0: \n",
    "        \n",
    "            if letter.isdigit() == True:\n",
    "                tmpList.append(letter)\n",
    "                count += 1\n",
    "            else:\n",
    "                tmpList.append(letter)\n",
    "                count += 1\n",
    "        else:\n",
    "            if letter.isdigit() == True:\n",
    "                if str(tmpList[count-1]).isdigit()==True:\n",
    "                   numbChange = str(tmpList[count-1])\n",
    "                   numbChange += letter \n",
    "                   tmpList[count-1] = numbChange\n",
    "                \n",
    "                else:\n",
    "                    tmpList.append(letter)\n",
    "                    count += 1\n",
    "                \n",
    "                \n",
    "            else:\n",
    "                tmpList.append(letter)            \n",
    "                count +=1 \n",
    "                \n",
    "    print(tmpList)\n",
    "    \n",
    "    for i in range(len(tmpList)):\n",
    "        if i==0: \n",
    "            answer+= int(tmpList[i])\n",
    "        \n",
    "        elif tmpList[i].isdigit()==True:\n",
    "            if tmpList[i-1] == \"+\":\n",
    "                answer += int(tmpList[i])\n",
    "            if tmpList[i-1] == \"-\":\n",
    "                answer -= int(tmpList[i])\n",
    "            if tmpList[i-1] == \"*\":\n",
    "                answer *= int(tmpList[i])\n",
    "            if tmpList[i-1] == \"/\":\n",
    "                answer /= int(tmpList[i])\n",
    "        \n",
    "    return answer"
   ]
  },
  {
   "cell_type": "code",
   "execution_count": 47,
   "metadata": {},
   "outputs": [
    {
     "name": "stdout",
     "output_type": "stream",
     "text": [
      "['2', '+', '3', '-', '999']\n"
     ]
    },
    {
     "data": {
      "text/plain": [
       "-994"
      ]
     },
     "execution_count": 47,
     "metadata": {},
     "output_type": "execute_result"
    }
   ],
   "source": [
    "result = solution(sample)\n",
    "result"
   ]
  }
 ],
 "metadata": {
  "kernelspec": {
   "display_name": "Python 3",
   "language": "python",
   "name": "python3"
  },
  "language_info": {
   "codemirror_mode": {
    "name": "ipython",
    "version": 3
   },
   "file_extension": ".py",
   "mimetype": "text/x-python",
   "name": "python",
   "nbconvert_exporter": "python",
   "pygments_lexer": "ipython3",
   "version": "3.10.5 (tags/v3.10.5:f377153, Jun  6 2022, 16:14:13) [MSC v.1929 64 bit (AMD64)]"
  },
  "orig_nbformat": 4,
  "vscode": {
   "interpreter": {
    "hash": "e89c93e4c07d4ac8f065cea982a638287e1c61026788fcbbad7e0263e2130583"
   }
  }
 },
 "nbformat": 4,
 "nbformat_minor": 2
}
