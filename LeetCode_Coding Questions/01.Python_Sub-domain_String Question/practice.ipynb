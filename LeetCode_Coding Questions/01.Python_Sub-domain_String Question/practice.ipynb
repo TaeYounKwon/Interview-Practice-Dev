{
 "cells": [
  {
   "cell_type": "markdown",
   "metadata": {},
   "source": [
    "# Question 1\n",
    "A website domain \"discuss.leetcode.com\" consists of various subdomains. At the top level, we have \"com\", at the next level, we have \"leetcode.com\" and at the lowest level, \"discuss.leetcode.com\". When we visit a domain like \"discuss.leetcode.com\", we will also visit the parent domains \"leetcode.com\" and \"com\" implicitly.\n",
    "\n",
    "A count-paired domain is a domain that has one of the two formats \"rep d1.d2.d3\" or \"rep d1.d2\" where rep is the number of visits to the domain and d1.d2.d3 is the domain itself.\n",
    "\n",
    "- For example, \"9001 discuss.leetcode.com\" is a count-paired domain that indicates that discuss.leetcode.com was visited 9001 times.\n",
    "\n",
    "Given an array of count-paired domains cpdomains, return an array of the count-paired domains of each subdomain in the input. You may return the answer in any order."
   ]
  },
  {
   "cell_type": "markdown",
   "metadata": {},
   "source": [
    "## ex1\n",
    "Input: cpdomains = [\"9001 discuss.leetcode.com\"]\n",
    "\n",
    "Output: [\"9001 leetcode.com\",\"9001 discuss.leetcode.com\",\"9001 com\"]\n",
    "\n",
    "Explanation: We only have one website domain: \"discuss.leetcode.com\".\n",
    "\n",
    "As discussed above, the subdomain \"leetcode.com\" and \"com\" will also be visited. So they will all be visited 9001 times."
   ]
  },
  {
   "cell_type": "markdown",
   "metadata": {},
   "source": [
    "## ex2\n",
    "Input: cpdomains = [\"900 google.mail.com\", \"50 yahoo.com\", \"1 intel.mail.com\", \"5 wiki.org\"]\n",
    "\n",
    "Output: [\"901 mail.com\",\"50 yahoo.com\",\"900 google.mail.com\",\"5 wiki.org\",\"5 org\",\"1 intel.mail.com\",\"951 com\"]\n",
    "\n",
    "Explanation: We will visit \"google.mail.com\" 900 times, \"yahoo.com\" 50 times, \"intel.mail.com\" once and \"wiki.org\" 5 times.\n",
    "\n",
    "For the subdomains, we will visit \"mail.com\" 900 + 1 = 901 times, \"com\" 900 + 50 + 1 = 951 times, and \"org\" 5 times."
   ]
  },
  {
   "cell_type": "markdown",
   "metadata": {},
   "source": [
    "## constraints:\n",
    "- 1 <= cpdomain.length <= 100\n",
    "\n",
    "- 1 <= cpdomain[i].length <= 100\n",
    "\n",
    "- cpdomain[i] follows either the \"repi d1i.d2i.d3i\" format or the \"repi d1i.d2i\" format.\n",
    "\n",
    "- repi is an integer in the range [1, 104].\n",
    "\n",
    "- d1i, d2i, and d3i consist of lowercase English letters."
   ]
  },
  {
   "cell_type": "code",
   "execution_count": 171,
   "metadata": {},
   "outputs": [],
   "source": [
    "cpdomains1 = [\"9001 discuss.leetcode.com\"]\n",
    "cpdomains2 = [\"900 google.mail.com\", \"50 yahoo.com\", \"1 intel.mail.com\", \"5 wiki.org\",\"30 mail.com\"]"
   ]
  },
  {
   "cell_type": "code",
   "execution_count": 172,
   "metadata": {},
   "outputs": [],
   "source": [
    "answer1=[\"9001 leetcode.com\",\"9001 discuss.leetcode.com\",\"9001 com\"]\n",
    "answer2=[\"901 mail.com\",\"50 yahoo.com\",\"900 google.mail.com\",\"5 wiki.org\",\"5 org\",\"1 intel.mail.com\",\"951 com\"]"
   ]
  },
  {
   "cell_type": "code",
   "execution_count": 173,
   "metadata": {},
   "outputs": [],
   "source": [
    "class Solution:\n",
    "    \n",
    "    def __init__(self):\n",
    "        self.data = dict() \n",
    "        \n",
    "    def __del__(self):\n",
    "        print('Class Removed')\n",
    "        \n",
    "    def checkdata(self, string, numb):\n",
    "        if string in self.data:\n",
    "            self.data[string]+=numb\n",
    "        else:\n",
    "            self.data[string]=numb    \n",
    "            \n",
    "    def answer(self):\n",
    "        tmpkeys = list(self.data.keys())\n",
    "        tmpVals = list(self.data.values())\n",
    "        \n",
    "        answerList = []\n",
    "        for i in range(len(tmpkeys)):\n",
    "            tmpString = str(tmpVals[i]) + ' ' + str(tmpkeys[i])\n",
    "            answerList.append(tmpString)\n",
    "        \n",
    "        return answerList    \n",
    "       \n",
    "            \n",
    "            \n",
    "    def subdomainVisits(self, cpdomains: list[str]) -> list[str]:\n",
    "        orgList = cpdomains\n",
    "        tmpDict = dict()\n",
    "        \n",
    "        # For each line, divide the data into number(int), domain(str)\n",
    "        for i in range(len(orgList)):\n",
    "            tmpString = str(orgList[i])\n",
    "            # Set number and string\n",
    "            tmpNumb, string = tmpString.split()\n",
    "            numb = int(tmpNumb)\n",
    "            \n",
    "            print('Number Front: ', numb)\n",
    "            print('Domain: ', string)    \n",
    "            numbDot = string.count('.')\n",
    "            print('Number of Dots: ',numbDot)\n",
    "            \n",
    "            self.checkdata(string, numb)\n",
    "            \n",
    "            while(numbDot!=0):\n",
    "                \n",
    "                if numbDot==0:\n",
    "                    self.checkdata(string, numb)\n",
    "                    break\n",
    "                \n",
    "                garbage, string = string.split('.',maxsplit=1)    \n",
    "                self.checkdata(string, numb)\n",
    "                print('Garbage: ', garbage)\n",
    "                print('Domain: ', string)\n",
    "                numbDot -=1\n",
    "                \n",
    "        answer = self.answer()\n",
    "        return answer\n",
    "        \n",
    "        "
   ]
  },
  {
   "cell_type": "code",
   "execution_count": 174,
   "metadata": {},
   "outputs": [
    {
     "name": "stdout",
     "output_type": "stream",
     "text": [
      "Class Removed\n",
      "Number Front:  9001\n",
      "Domain:  discuss.leetcode.com\n",
      "Number of Dots:  2\n",
      "Garbage:  discuss\n",
      "Domain:  leetcode.com\n",
      "Garbage:  leetcode\n",
      "Domain:  com\n"
     ]
    }
   ],
   "source": [
    "solv = Solution()\n",
    "test1 = solv.subdomainVisits(cpdomains1)"
   ]
  },
  {
   "cell_type": "code",
   "execution_count": 175,
   "metadata": {},
   "outputs": [
    {
     "name": "stdout",
     "output_type": "stream",
     "text": [
      "Number Front:  900\n",
      "Domain:  google.mail.com\n",
      "Number of Dots:  2\n",
      "Garbage:  google\n",
      "Domain:  mail.com\n",
      "Garbage:  mail\n",
      "Domain:  com\n",
      "Number Front:  50\n",
      "Domain:  yahoo.com\n",
      "Number of Dots:  1\n",
      "Garbage:  yahoo\n",
      "Domain:  com\n",
      "Number Front:  1\n",
      "Domain:  intel.mail.com\n",
      "Number of Dots:  2\n",
      "Garbage:  intel\n",
      "Domain:  mail.com\n",
      "Garbage:  mail\n",
      "Domain:  com\n",
      "Number Front:  5\n",
      "Domain:  wiki.org\n",
      "Number of Dots:  1\n",
      "Garbage:  wiki\n",
      "Domain:  org\n",
      "Number Front:  30\n",
      "Domain:  mail.com\n",
      "Number of Dots:  1\n",
      "Garbage:  mail\n",
      "Domain:  com\n"
     ]
    }
   ],
   "source": [
    "test2 = solv.subdomainVisits(cpdomains2)"
   ]
  }
 ],
 "metadata": {
  "kernelspec": {
   "display_name": "Python 3",
   "language": "python",
   "name": "python3"
  },
  "language_info": {
   "codemirror_mode": {
    "name": "ipython",
    "version": 3
   },
   "file_extension": ".py",
   "mimetype": "text/x-python",
   "name": "python",
   "nbconvert_exporter": "python",
   "pygments_lexer": "ipython3",
   "version": "3.10.5 (tags/v3.10.5:f377153, Jun  6 2022, 16:14:13) [MSC v.1929 64 bit (AMD64)]"
  },
  "orig_nbformat": 4,
  "vscode": {
   "interpreter": {
    "hash": "e89c93e4c07d4ac8f065cea982a638287e1c61026788fcbbad7e0263e2130583"
   }
  }
 },
 "nbformat": 4,
 "nbformat_minor": 2
}
