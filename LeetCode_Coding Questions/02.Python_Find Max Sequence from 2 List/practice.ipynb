{
 "cells": [
  {
   "cell_type": "code",
   "execution_count": 51,
   "metadata": {},
   "outputs": [],
   "source": [
    "input1=[\"a\",         \"c\", \"d\",\"e\",\"f\",    \"h\",          \"x\",\"y\",\"z\"]\n",
    "input2=[\"a\", \"b\",    \"c\", \"d\",\"e\",\"f\",      \"l\",\"m\",\"n\",\"x\",\"y\",\"z\"] "
   ]
  },
  {
   "cell_type": "code",
   "execution_count": 52,
   "metadata": {},
   "outputs": [],
   "source": [
    "output = [\"c\", \"d\",\"e\",\"f\"]"
   ]
  },
  {
   "cell_type": "code",
   "execution_count": 53,
   "metadata": {},
   "outputs": [
    {
     "data": {
      "text/plain": [
       "13"
      ]
     },
     "execution_count": 53,
     "metadata": {},
     "output_type": "execute_result"
    }
   ],
   "source": [
    "input3=[\"c\", \"b\",\"d\", \"k\",                \"l\", \"m\",\"n\",\"o\",           \"r\" ,  \"h\",  \"x\",\"y\",\"z\"]\n",
    "input4=[\"a\", \"b\", \"d\", \"h\", \"e\",\"f\",      \"l\",\"m\",\"n\",\"o\",   \"p\",\"q\", \"r\",  \"c\",  \"x\",\"y\",\"z\"] \n",
    "\n",
    "input4.index(\"c\")"
   ]
  },
  {
   "cell_type": "code",
   "execution_count": 56,
   "metadata": {},
   "outputs": [],
   "source": [
    "def mostCommon(input1, input2):\n",
    "    tmp1 = list(input1)\n",
    "    tmp2 = list(input2)\n",
    "    \n",
    "    len1 = len(tmp1)\n",
    "    len2 = len(tmp2)\n",
    "    \n",
    "    maxSeq = 0\n",
    "    curSeq = 0\n",
    "    maxIndex = -1\n",
    "    \n",
    "    index1 = 0\n",
    "    index2 = 0\n",
    "    stop_position = 0\n",
    "    \n",
    "    \n",
    "    while(index1<len1 or index2<len2):\n",
    "            \n",
    "        # index out of range, out of the loop\n",
    "        if index1 >= len1 or index2 >= len2:\n",
    "            break\n",
    "        \n",
    "        # Check if it's same sequencial order\n",
    "        if tmp1[index1] in tmp2:\n",
    "            \n",
    "            index2= tmp2.index(tmp1[index1]) \n",
    "            \n",
    "            if stop_position < index2:\n",
    "                if stop_position + 1 == index2:\n",
    "                    stop_position = index2\n",
    "                    curSeq += 1\n",
    "                    print(\"Index: \", tmp1[index1], \"Adding :\", curSeq)\n",
    "                else: \n",
    "                    stop_position = index2 \n",
    "                    curSeq = 1\n",
    "                    print(\"Index: \", tmp1[index1], \"Reset to 1: \", curSeq)\n",
    "            else: \n",
    "                stop_position = index2 \n",
    "                curSeq = 1 \n",
    "                print(\"Index: \", tmp1[index1], \"Reset to 1: \", curSeq)\n",
    "                \n",
    "                \n",
    "            \n",
    "        \n",
    "        # If tmp1 value cannot be founded\n",
    "        # means Sequencial stoped, curSeq = 0\n",
    "        else:\n",
    "            curSeq = 0\n",
    "            print(\"Index: \", tmp1[index1], \"Reset to 0: \", curSeq)\n",
    "        \n",
    "        # Check maximum Sequencial order\n",
    "        if curSeq > maxSeq:\n",
    "            maxSeq = curSeq\n",
    "            maxIndex = index1\n",
    "        \n",
    "        index1 += 1\n",
    "    \n",
    "    print(maxSeq)\n",
    "    print(maxIndex)    \n",
    "            \n",
    "            \n",
    "         \n",
    "\n",
    "        "
   ]
  },
  {
   "cell_type": "code",
   "execution_count": 57,
   "metadata": {},
   "outputs": [
    {
     "name": "stdout",
     "output_type": "stream",
     "text": [
      "Index:  c Reset to 1:  1\n",
      "Index:  b Reset to 1:  1\n",
      "Index:  d Adding : 2\n",
      "Index:  k Reset to 0:  0\n",
      "Index:  l Reset to 1:  1\n",
      "Index:  m Adding : 2\n",
      "Index:  n Adding : 3\n",
      "Index:  o Adding : 4\n",
      "Index:  r Reset to 1:  1\n",
      "Index:  h Reset to 1:  1\n",
      "Index:  x Reset to 1:  1\n",
      "Index:  y Adding : 2\n",
      "Index:  z Adding : 3\n",
      "4\n",
      "7\n"
     ]
    }
   ],
   "source": [
    "mostCommon(input3,input4)"
   ]
  },
  {
   "cell_type": "code",
   "execution_count": 58,
   "metadata": {},
   "outputs": [
    {
     "name": "stdout",
     "output_type": "stream",
     "text": [
      "Index:  a Reset to 1:  1\n",
      "Index:  c Reset to 1:  1\n",
      "Index:  d Adding : 2\n",
      "Index:  e Adding : 3\n",
      "Index:  f Adding : 4\n",
      "Index:  h Reset to 0:  0\n",
      "Index:  x Reset to 1:  1\n",
      "Index:  y Adding : 2\n",
      "Index:  z Adding : 3\n",
      "4\n",
      "4\n"
     ]
    }
   ],
   "source": [
    "mostCommon(input1,input2)"
   ]
  },
  {
   "cell_type": "code",
   "execution_count": 59,
   "metadata": {},
   "outputs": [],
   "source": [
    "def mostCommon(input1, input2):\n",
    "    tmp1 = list(input1)\n",
    "    tmp2 = list(input2)\n",
    "    \n",
    "    len1 = len(tmp1)\n",
    "    len2 = len(tmp2)\n",
    "    \n",
    "    maxSeq = 0\n",
    "    curSeq = 0\n",
    "    maxIndex = -1\n",
    "\n",
    "    index2 = 0\n",
    "    stop_position = 0\n",
    "    \n",
    "    \n",
    "    for index1 in range(len(tmp1)):\n",
    "        \n",
    "        # Check if it's same sequencial order\n",
    "        if tmp1[index1] in tmp2:\n",
    "            \n",
    "            index2= tmp2.index(tmp1[index1]) \n",
    "            \n",
    "            if stop_position < index2:\n",
    "                if stop_position + 1 == index2:\n",
    "                    stop_position = index2\n",
    "                    curSeq += 1\n",
    "                    print(\"Index: \", tmp1[index1], \"Adding :\", curSeq)\n",
    "                else: \n",
    "                    stop_position = index2 \n",
    "                    curSeq = 1\n",
    "                    print(\"Index: \", tmp1[index1], \"Reset to 1: \", curSeq)\n",
    "            else: \n",
    "                stop_position = index2 \n",
    "                curSeq = 1 \n",
    "                print(\"Index: \", tmp1[index1], \"Reset to 1: \", curSeq)\n",
    "                \n",
    "                \n",
    "            \n",
    "        \n",
    "        # If tmp1 value cannot be founded\n",
    "        # means Sequencial stoped, curSeq = 0\n",
    "        else:\n",
    "            curSeq = 0\n",
    "            print(\"Index: \", tmp1[index1], \"Reset to 0: \", curSeq)\n",
    "        \n",
    "        # Check maximum Sequencial order\n",
    "        if curSeq > maxSeq:\n",
    "            maxSeq = curSeq\n",
    "            maxIndex = index1\n",
    "        \n",
    "       \n",
    "    \n",
    "    print(maxSeq)\n",
    "    print(maxIndex)    \n",
    "            \n",
    "            \n",
    "         \n",
    "\n",
    "        "
   ]
  },
  {
   "cell_type": "code",
   "execution_count": 60,
   "metadata": {},
   "outputs": [
    {
     "name": "stdout",
     "output_type": "stream",
     "text": [
      "Index:  c Reset to 1:  1\n",
      "Index:  b Reset to 1:  1\n",
      "Index:  d Adding : 2\n",
      "Index:  k Reset to 0:  0\n",
      "Index:  l Reset to 1:  1\n",
      "Index:  m Adding : 2\n",
      "Index:  n Adding : 3\n",
      "Index:  o Adding : 4\n",
      "Index:  r Reset to 1:  1\n",
      "Index:  h Reset to 1:  1\n",
      "Index:  x Reset to 1:  1\n",
      "Index:  y Adding : 2\n",
      "Index:  z Adding : 3\n",
      "4\n",
      "7\n"
     ]
    }
   ],
   "source": [
    "mostCommon(input3,input4)"
   ]
  },
  {
   "cell_type": "code",
   "execution_count": null,
   "metadata": {},
   "outputs": [],
   "source": []
  }
 ],
 "metadata": {
  "kernelspec": {
   "display_name": "Python 3.10.7 64-bit",
   "language": "python",
   "name": "python3"
  },
  "language_info": {
   "codemirror_mode": {
    "name": "ipython",
    "version": 3
   },
   "file_extension": ".py",
   "mimetype": "text/x-python",
   "name": "python",
   "nbconvert_exporter": "python",
   "pygments_lexer": "ipython3",
   "version": "3.10.7"
  },
  "orig_nbformat": 4,
  "vscode": {
   "interpreter": {
    "hash": "fb4569285eef3a3450cb62085a5b1e0da4bce0af555edc33dcf29baf3acc1368"
   }
  }
 },
 "nbformat": 4,
 "nbformat_minor": 2
}
