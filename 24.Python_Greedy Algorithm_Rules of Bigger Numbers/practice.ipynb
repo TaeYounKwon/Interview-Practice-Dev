{
 "cells": [
  {
   "cell_type": "code",
   "execution_count": 44,
   "metadata": {},
   "outputs": [],
   "source": [
    "sample_1 = [2,4,5,4,6]\n",
    "sample_2 = [3,4,3,4,3]\n",
    "sample_3 = [3]\n",
    "sample_4 = []\n",
    "sample_5 = [-1,0]\n",
    "sample_6 = [-1,-2,-3,-4]\n"
   ]
  },
  {
   "cell_type": "code",
   "execution_count": 45,
   "metadata": {},
   "outputs": [],
   "source": [
    "def solution(sample, m, k):\n",
    "    answer = 0\n",
    "    \n",
    "    if len(sample)<1:\n",
    "        return answer\n",
    "    \n",
    "    elif len(sample)==1:\n",
    "        return k*sample[0]\n",
    "\n",
    "    else:\n",
    "        tmp = sample\n",
    "        tmp.sort(reverse=True)    \n",
    "        biggest = tmp[0]\n",
    "        bigger = tmp[1]\n",
    "        \n",
    "        count = 0\n",
    "        sum = 0\n",
    "        for i in range(0,m):\n",
    "            if count!=k:\n",
    "                sum+=biggest\n",
    "                count+=1\n",
    "            else:\n",
    "                sum+=bigger\n",
    "                count=0      \n",
    "        \n",
    "        answer = sum\n",
    "        \n",
    "        \n",
    "        return answer\n"
   ]
  },
  {
   "cell_type": "code",
   "execution_count": 46,
   "metadata": {},
   "outputs": [
    {
     "name": "stdout",
     "output_type": "stream",
     "text": [
      "46\n"
     ]
    }
   ],
   "source": [
    "\n",
    "result = solution(sample_1,8,3)\n",
    "print(result)"
   ]
  },
  {
   "cell_type": "code",
   "execution_count": 47,
   "metadata": {},
   "outputs": [
    {
     "name": "stdout",
     "output_type": "stream",
     "text": [
      "9\n",
      "0\n",
      "-2\n",
      "-10\n"
     ]
    }
   ],
   "source": [
    "print(solution(sample_3,8,3))\n",
    "print(solution(sample_4,8,3))\n",
    "print(solution(sample_5,8,3))\n",
    "print(solution(sample_6,8,3))"
   ]
  },
  {
   "attachments": {},
   "cell_type": "markdown",
   "metadata": {},
   "source": [
    "### 수열을 이용한 계산"
   ]
  },
  {
   "cell_type": "code",
   "execution_count": 49,
   "metadata": {},
   "outputs": [],
   "source": [
    "# N 개의 주어진 리스트\n",
    "# M 개의 결과 리스트 길이\n",
    "# K 개의 중복값 가능 개수 \n",
    "def solution2(sample, m, k):\n",
    "    answer = 0\n",
    "    \n",
    "    if len(sample)<1:\n",
    "        return answer\n",
    "    \n",
    "    elif len(sample)==1:\n",
    "        return k*sample[0]\n",
    "\n",
    "    else:\n",
    "        \n",
    "        tmp = sample\n",
    "        tmp.sort(reverse=True)    \n",
    "        biggest = tmp[0]\n",
    "        bigger = tmp[1]\n",
    "        \n",
    "        count = int(m/(k+1))*k\n",
    "        count+= m%(k+1)\n",
    "        \n",
    "        answer += (count)*biggest\n",
    "        answer += (m-count)*bigger\n",
    "        \n",
    "        return answer\n",
    "    \n",
    "    \n",
    "    \n",
    "    \n",
    "        \n",
    "        \n",
    "  \n"
   ]
  },
  {
   "cell_type": "code",
   "execution_count": 50,
   "metadata": {},
   "outputs": [
    {
     "name": "stdout",
     "output_type": "stream",
     "text": [
      "46\n"
     ]
    }
   ],
   "source": [
    "result = solution2(sample_1,8,3)\n",
    "print(result)"
   ]
  },
  {
   "cell_type": "code",
   "execution_count": null,
   "metadata": {},
   "outputs": [],
   "source": []
  }
 ],
 "metadata": {
  "kernelspec": {
   "display_name": "Python 3",
   "language": "python",
   "name": "python3"
  },
  "language_info": {
   "codemirror_mode": {
    "name": "ipython",
    "version": 3
   },
   "file_extension": ".py",
   "mimetype": "text/x-python",
   "name": "python",
   "nbconvert_exporter": "python",
   "pygments_lexer": "ipython3",
   "version": "3.10.5"
  },
  "orig_nbformat": 4,
  "vscode": {
   "interpreter": {
    "hash": "e89c93e4c07d4ac8f065cea982a638287e1c61026788fcbbad7e0263e2130583"
   }
  }
 },
 "nbformat": 4,
 "nbformat_minor": 2
}
