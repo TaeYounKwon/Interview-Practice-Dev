{
 "cells": [
  {
   "attachments": {},
   "cell_type": "markdown",
   "metadata": {},
   "source": [
    "n개의 노드가 있는 그래프가 있습니다. 각 노드는 1부터 n까지 번호가 적혀있습니다. 1번 노드에서 가장 멀리 떨어진 노드의 갯수를 구하려고 합니다. 가장 멀리 떨어진 노드란 최단경로로 이동했을 때 간선의 개수가 가장 많은 노드들을 의미합니다.\n",
    "\n",
    "노드의 개수 n, 간선에 대한 정보가 담긴 2차원 배열 vertex가 매개변수로 주어질 때, 1번 노드로부터 가장 멀리 떨어진 노드가 몇 개인지를 return 하도록 solution 함수를 작성해주세요."
   ]
  },
  {
   "cell_type": "code",
   "execution_count": 50,
   "metadata": {},
   "outputs": [],
   "source": [
    "from collections import deque"
   ]
  },
  {
   "cell_type": "code",
   "execution_count": 51,
   "metadata": {},
   "outputs": [],
   "source": [
    "edge = [[3, 6], [4, 3], [3, 2], [1, 3], [1, 2], [2, 4], [5, 2]]\n",
    "n=6"
   ]
  },
  {
   "cell_type": "code",
   "execution_count": 54,
   "metadata": {},
   "outputs": [],
   "source": [
    "\n",
    "def solution(n, edge):\n",
    "    answer = 0\n",
    "    distance = [0]*(n+1)\n",
    "    edge.sort()\n",
    "    queue = deque()\n",
    "    graph = [[] for i in range(n+1)] # [[], [], [], [], [], [], []]\n",
    "    \n",
    "    # 양 방향성임으로 2번 더함, 더한뒤 그래프는  [[], [2, 3], [1, 4, 3, 5], [1, 2, 6, 4], [2, 3], [2], [3]]\n",
    "    for e in edge: \n",
    "        graph[e[0]].append(e[1])\n",
    "        graph[e[1]].append(e[0])\n",
    "    \n",
    "    queue.append(1)\n",
    "    distance[1] = 1\n",
    "    \n",
    "    while queue:\n",
    "        current = queue.popleft()\n",
    "        \n",
    "        for g in graph[current]:\n",
    "            if distance[g] ==0:\n",
    "                queue.append(g)\n",
    "                distance[g] = distance[current] +1\n",
    "                \n",
    "        \n",
    "    max_distance = max(distance)\n",
    "    for i in distance:\n",
    "        if i == max_distance:\n",
    "            answer+= 1\n",
    "    \n",
    "    return answer"
   ]
  },
  {
   "cell_type": "code",
   "execution_count": 55,
   "metadata": {},
   "outputs": [
    {
     "name": "stdout",
     "output_type": "stream",
     "text": [
      "queue Before:  deque([1])\n",
      "queue After:  deque([2, 3]) \n",
      "\n",
      "queue Before:  deque([2, 3])\n",
      "queue After:  deque([3, 4, 5]) \n",
      "\n",
      "queue Before:  deque([3, 4, 5])\n",
      "queue After:  deque([4, 5, 6]) \n",
      "\n",
      "queue Before:  deque([4, 5, 6])\n",
      "queue After:  deque([5, 6]) \n",
      "\n",
      "queue Before:  deque([5, 6])\n",
      "queue After:  deque([6]) \n",
      "\n",
      "queue Before:  deque([6])\n",
      "queue After:  deque([]) \n",
      "\n"
     ]
    },
    {
     "data": {
      "text/plain": [
       "3"
      ]
     },
     "execution_count": 55,
     "metadata": {},
     "output_type": "execute_result"
    }
   ],
   "source": [
    "result = solution(n,edge)\n",
    "result"
   ]
  },
  {
   "cell_type": "code",
   "execution_count": null,
   "metadata": {},
   "outputs": [],
   "source": []
  }
 ],
 "metadata": {
  "kernelspec": {
   "display_name": "Python 3",
   "language": "python",
   "name": "python3"
  },
  "language_info": {
   "codemirror_mode": {
    "name": "ipython",
    "version": 3
   },
   "file_extension": ".py",
   "mimetype": "text/x-python",
   "name": "python",
   "nbconvert_exporter": "python",
   "pygments_lexer": "ipython3",
   "version": "3.10.5"
  },
  "orig_nbformat": 4,
  "vscode": {
   "interpreter": {
    "hash": "e89c93e4c07d4ac8f065cea982a638287e1c61026788fcbbad7e0263e2130583"
   }
  }
 },
 "nbformat": 4,
 "nbformat_minor": 2
}
